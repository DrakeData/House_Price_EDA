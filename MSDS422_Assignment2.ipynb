{
 "cells": [
  {
   "cell_type": "markdown",
   "metadata": {},
   "source": [
    "# Assignment 2 - House Prices: Advanced Regression Techniques"
   ]
  },
  {
   "cell_type": "code",
   "execution_count": 65,
   "metadata": {},
   "outputs": [],
   "source": [
    "import pandas as pd\n",
    "import matplotlib.pyplot as plt\n",
    "import seaborn as sns\n",
    "import numpy as np\n",
    "import os\n",
    "from scipy import stats\n",
    "from scipy.stats import norm\n",
    "from sklearn.preprocessing import StandardScaler\n",
    "from sklearn.preprocessing import MinMaxScaler\n",
    "from sklearn.preprocessing import LabelEncoder\n",
    "from sklearn.preprocessing import PolynomialFeatures\n",
    "from sklearn.impute import SimpleImputer\n",
    "from sklearn.model_selection import train_test_split\n",
    "from sklearn.linear_model import LinearRegression\n",
    "import sklearn.metrics as metrics\n",
    "from numpy import array\n",
    "from sklearn.model_selection import KFold, cross_val_score\n",
    "from sklearn.linear_model import Lasso\n",
    "from sklearn.metrics import mean_squared_error\n",
    "\n",
    "%matplotlib inline\n",
    "sns.set()"
   ]
  },
  {
   "cell_type": "markdown",
   "metadata": {},
   "source": [
    "## Import Data\n",
    "'train_clean.csv' and 'test_clean.csv' is the cleaned up trained data set that worked on in Assignment 1."
   ]
  },
  {
   "cell_type": "code",
   "execution_count": 2,
   "metadata": {
    "scrolled": true
   },
   "outputs": [
    {
     "data": {
      "text/html": [
       "<div>\n",
       "<style scoped>\n",
       "    .dataframe tbody tr th:only-of-type {\n",
       "        vertical-align: middle;\n",
       "    }\n",
       "\n",
       "    .dataframe tbody tr th {\n",
       "        vertical-align: top;\n",
       "    }\n",
       "\n",
       "    .dataframe thead th {\n",
       "        text-align: right;\n",
       "    }\n",
       "</style>\n",
       "<table border=\"1\" class=\"dataframe\">\n",
       "  <thead>\n",
       "    <tr style=\"text-align: right;\">\n",
       "      <th></th>\n",
       "      <th>Id</th>\n",
       "      <th>MSSubClass</th>\n",
       "      <th>MSZoning</th>\n",
       "      <th>LotFrontage</th>\n",
       "      <th>LotArea</th>\n",
       "      <th>Street</th>\n",
       "      <th>Alley</th>\n",
       "      <th>LotShape</th>\n",
       "      <th>LandContour</th>\n",
       "      <th>Utilities</th>\n",
       "      <th>...</th>\n",
       "      <th>MiscVal</th>\n",
       "      <th>MoSold</th>\n",
       "      <th>YrSold</th>\n",
       "      <th>SaleType</th>\n",
       "      <th>SaleCondition</th>\n",
       "      <th>SalePrice</th>\n",
       "      <th>TotalSqft</th>\n",
       "      <th>TotalBath</th>\n",
       "      <th>HouseAge</th>\n",
       "      <th>ReModeled</th>\n",
       "    </tr>\n",
       "  </thead>\n",
       "  <tbody>\n",
       "    <tr>\n",
       "      <th>0</th>\n",
       "      <td>1</td>\n",
       "      <td>60</td>\n",
       "      <td>RL</td>\n",
       "      <td>65.0</td>\n",
       "      <td>8450</td>\n",
       "      <td>Pave</td>\n",
       "      <td>None</td>\n",
       "      <td>Reg</td>\n",
       "      <td>Lvl</td>\n",
       "      <td>AllPub</td>\n",
       "      <td>...</td>\n",
       "      <td>0</td>\n",
       "      <td>2</td>\n",
       "      <td>2008</td>\n",
       "      <td>WD</td>\n",
       "      <td>Normal</td>\n",
       "      <td>208500</td>\n",
       "      <td>2566</td>\n",
       "      <td>3.5</td>\n",
       "      <td>5</td>\n",
       "      <td>0</td>\n",
       "    </tr>\n",
       "    <tr>\n",
       "      <th>1</th>\n",
       "      <td>2</td>\n",
       "      <td>20</td>\n",
       "      <td>RL</td>\n",
       "      <td>80.0</td>\n",
       "      <td>9600</td>\n",
       "      <td>Pave</td>\n",
       "      <td>None</td>\n",
       "      <td>Reg</td>\n",
       "      <td>Lvl</td>\n",
       "      <td>AllPub</td>\n",
       "      <td>...</td>\n",
       "      <td>0</td>\n",
       "      <td>5</td>\n",
       "      <td>2007</td>\n",
       "      <td>WD</td>\n",
       "      <td>Normal</td>\n",
       "      <td>181500</td>\n",
       "      <td>2524</td>\n",
       "      <td>2.5</td>\n",
       "      <td>31</td>\n",
       "      <td>0</td>\n",
       "    </tr>\n",
       "    <tr>\n",
       "      <th>2</th>\n",
       "      <td>3</td>\n",
       "      <td>60</td>\n",
       "      <td>RL</td>\n",
       "      <td>68.0</td>\n",
       "      <td>11250</td>\n",
       "      <td>Pave</td>\n",
       "      <td>None</td>\n",
       "      <td>IR1</td>\n",
       "      <td>Lvl</td>\n",
       "      <td>AllPub</td>\n",
       "      <td>...</td>\n",
       "      <td>0</td>\n",
       "      <td>9</td>\n",
       "      <td>2008</td>\n",
       "      <td>WD</td>\n",
       "      <td>Normal</td>\n",
       "      <td>223500</td>\n",
       "      <td>2706</td>\n",
       "      <td>3.5</td>\n",
       "      <td>7</td>\n",
       "      <td>1</td>\n",
       "    </tr>\n",
       "    <tr>\n",
       "      <th>3</th>\n",
       "      <td>4</td>\n",
       "      <td>70</td>\n",
       "      <td>RL</td>\n",
       "      <td>60.0</td>\n",
       "      <td>9550</td>\n",
       "      <td>Pave</td>\n",
       "      <td>None</td>\n",
       "      <td>IR1</td>\n",
       "      <td>Lvl</td>\n",
       "      <td>AllPub</td>\n",
       "      <td>...</td>\n",
       "      <td>0</td>\n",
       "      <td>2</td>\n",
       "      <td>2006</td>\n",
       "      <td>WD</td>\n",
       "      <td>Abnorml</td>\n",
       "      <td>140000</td>\n",
       "      <td>2473</td>\n",
       "      <td>2.0</td>\n",
       "      <td>91</td>\n",
       "      <td>1</td>\n",
       "    </tr>\n",
       "    <tr>\n",
       "      <th>4</th>\n",
       "      <td>5</td>\n",
       "      <td>60</td>\n",
       "      <td>RL</td>\n",
       "      <td>84.0</td>\n",
       "      <td>14260</td>\n",
       "      <td>Pave</td>\n",
       "      <td>None</td>\n",
       "      <td>IR1</td>\n",
       "      <td>Lvl</td>\n",
       "      <td>AllPub</td>\n",
       "      <td>...</td>\n",
       "      <td>0</td>\n",
       "      <td>12</td>\n",
       "      <td>2008</td>\n",
       "      <td>WD</td>\n",
       "      <td>Normal</td>\n",
       "      <td>250000</td>\n",
       "      <td>3343</td>\n",
       "      <td>3.5</td>\n",
       "      <td>8</td>\n",
       "      <td>0</td>\n",
       "    </tr>\n",
       "  </tbody>\n",
       "</table>\n",
       "<p>5 rows × 85 columns</p>\n",
       "</div>"
      ],
      "text/plain": [
       "   Id  MSSubClass MSZoning  LotFrontage  LotArea Street Alley LotShape  \\\n",
       "0   1          60       RL         65.0     8450   Pave  None      Reg   \n",
       "1   2          20       RL         80.0     9600   Pave  None      Reg   \n",
       "2   3          60       RL         68.0    11250   Pave  None      IR1   \n",
       "3   4          70       RL         60.0     9550   Pave  None      IR1   \n",
       "4   5          60       RL         84.0    14260   Pave  None      IR1   \n",
       "\n",
       "  LandContour Utilities  ... MiscVal MoSold YrSold SaleType SaleCondition  \\\n",
       "0         Lvl    AllPub  ...       0      2   2008       WD        Normal   \n",
       "1         Lvl    AllPub  ...       0      5   2007       WD        Normal   \n",
       "2         Lvl    AllPub  ...       0      9   2008       WD        Normal   \n",
       "3         Lvl    AllPub  ...       0      2   2006       WD       Abnorml   \n",
       "4         Lvl    AllPub  ...       0     12   2008       WD        Normal   \n",
       "\n",
       "  SalePrice TotalSqft  TotalBath  HouseAge  ReModeled  \n",
       "0    208500      2566        3.5         5          0  \n",
       "1    181500      2524        2.5        31          0  \n",
       "2    223500      2706        3.5         7          1  \n",
       "3    140000      2473        2.0        91          1  \n",
       "4    250000      3343        3.5         8          0  \n",
       "\n",
       "[5 rows x 85 columns]"
      ]
     },
     "execution_count": 2,
     "metadata": {},
     "output_type": "execute_result"
    }
   ],
   "source": [
    "# Create file path\n",
    "train_clean_file = os.path.join(os.getcwd(), 'data', 'train_clean.csv')\n",
    "test_clean_file = os.path.join(os.getcwd(), 'data', 'test_clean.csv')\n",
    "\n",
    "# Load csv into pandas df\n",
    "df_train_clean = pd.read_csv(train_clean_file)\n",
    "df_test_clean = pd.read_csv(test_clean_file)\n",
    "\n",
    "df_train_clean.head()"
   ]
  },
  {
   "cell_type": "markdown",
   "metadata": {},
   "source": [
    "## Check corrlation"
   ]
  },
  {
   "cell_type": "code",
   "execution_count": 3,
   "metadata": {},
   "outputs": [
    {
     "data": {
      "text/plain": [
       "SalePrice       1.000000\n",
       "TotalSqft       0.832877\n",
       "OverallQual     0.795774\n",
       "GrLivArea       0.734968\n",
       "TotalBsmtSF     0.651153\n",
       "GarageCars      0.641047\n",
       "TotalBath       0.635896\n",
       "1stFlrSF        0.631530\n",
       "GarageArea      0.629217\n",
       "FullBath        0.562165\n",
       "TotRmsAbvGrd    0.537769\n",
       "Name: SalePrice, dtype: float64"
      ]
     },
     "execution_count": 3,
     "metadata": {},
     "output_type": "execute_result"
    }
   ],
   "source": [
    "corr_mat = df_train_clean.corr().SalePrice.sort_values(ascending=False)\n",
    "corr_mat.head(11)"
   ]
  },
  {
   "cell_type": "markdown",
   "metadata": {},
   "source": [
    "## 1. Conduct your analysis using a cross-validation design."
   ]
  },
  {
   "cell_type": "code",
   "execution_count": 36,
   "metadata": {},
   "outputs": [
    {
     "name": "stdout",
     "output_type": "stream",
     "text": [
      "(1093, 4) (365, 4) (1093,) (365,)\n"
     ]
    }
   ],
   "source": [
    "x = df_train_clean[['TotalSqft', 'OverallQual', 'TotalBsmtSF', 'GarageCars']]\n",
    "y = df_train_clean['SalePrice']\n",
    "x_train, x_test, y_train, y_test = train_test_split(x, y)\n",
    "\n",
    "print(x_train.shape, x_test.shape, y_train.shape, y_test.shape)"
   ]
  },
  {
   "cell_type": "code",
   "execution_count": 37,
   "metadata": {},
   "outputs": [],
   "source": [
    "# Standardizing the scales\n",
    "ss = StandardScaler()\n",
    "xs = ss.fit_transform(x_train)"
   ]
  },
  {
   "cell_type": "code",
   "execution_count": 42,
   "metadata": {},
   "outputs": [
    {
     "name": "stdout",
     "output_type": "stream",
     "text": [
      "labels\n",
      " Index(['TotalSqft', 'OverallQual', 'TotalBsmtSF', 'GarageCars'], dtype='object')\n",
      "Coefficients: \n",
      " [40588.50492782 27793.92238832 -3291.0510298  11020.97113989]\n",
      "Intercept: \n",
      " 178976.04025617565\n",
      "R2 for Train: 0.8045860973811353\n",
      "R2 for Test (cross validation) -1473830.5152127286\n"
     ]
    }
   ],
   "source": [
    "lin_reg = LinearRegression()\n",
    "lin_reg.fit(xs, y_train)\n",
    "\n",
    "print('labels\\n', x.columns)\n",
    "print('Coefficients: \\n', lin_reg.coef_)\n",
    "print('Intercept: \\n', lin_reg.intercept_)\n",
    "print('R2 for Train:', lin_reg.score(xs, y_train ))\n",
    "print('R2 for Test (cross validation)', lin_reg.score(x_test, y_test))"
   ]
  },
  {
   "cell_type": "code",
   "execution_count": 43,
   "metadata": {},
   "outputs": [
    {
     "data": {
      "text/html": [
       "<div>\n",
       "<style scoped>\n",
       "    .dataframe tbody tr th:only-of-type {\n",
       "        vertical-align: middle;\n",
       "    }\n",
       "\n",
       "    .dataframe tbody tr th {\n",
       "        vertical-align: top;\n",
       "    }\n",
       "\n",
       "    .dataframe thead th {\n",
       "        text-align: right;\n",
       "    }\n",
       "</style>\n",
       "<table border=\"1\" class=\"dataframe\">\n",
       "  <thead>\n",
       "    <tr style=\"text-align: right;\">\n",
       "      <th></th>\n",
       "      <th>features</th>\n",
       "      <th>estimatedCoeffs</th>\n",
       "    </tr>\n",
       "  </thead>\n",
       "  <tbody>\n",
       "    <tr>\n",
       "      <th>0</th>\n",
       "      <td>TotalSqft</td>\n",
       "      <td>40588.504928</td>\n",
       "    </tr>\n",
       "    <tr>\n",
       "      <th>1</th>\n",
       "      <td>OverallQual</td>\n",
       "      <td>27793.922388</td>\n",
       "    </tr>\n",
       "    <tr>\n",
       "      <th>2</th>\n",
       "      <td>TotalBsmtSF</td>\n",
       "      <td>-3291.051030</td>\n",
       "    </tr>\n",
       "    <tr>\n",
       "      <th>3</th>\n",
       "      <td>GarageCars</td>\n",
       "      <td>11020.971140</td>\n",
       "    </tr>\n",
       "  </tbody>\n",
       "</table>\n",
       "</div>"
      ],
      "text/plain": [
       "      features  estimatedCoeffs\n",
       "0    TotalSqft     40588.504928\n",
       "1  OverallQual     27793.922388\n",
       "2  TotalBsmtSF     -3291.051030\n",
       "3   GarageCars     11020.971140"
      ]
     },
     "execution_count": 43,
     "metadata": {},
     "output_type": "execute_result"
    }
   ],
   "source": [
    "pd.DataFrame( list(zip(x.columns, lin_reg.coef_)),\n",
    "            columns=['features', 'estimatedCoeffs'])"
   ]
  },
  {
   "cell_type": "code",
   "execution_count": 44,
   "metadata": {},
   "outputs": [
    {
     "name": "stdout",
     "output_type": "stream",
     "text": [
      "CV Score: [0.79097695 0.82811912 0.78729236 0.80999369 0.79189987]\n",
      "R2_avg: 0.80 (+/- 0.03)\n"
     ]
    }
   ],
   "source": [
    "score = cross_val_score(lin_reg, xs, y_train, cv=5)\n",
    "\n",
    "print(f'CV Score: {score}')\n",
    "print('R2_avg: %0.2f (+/- %0.2f)'%(score.mean(), score.std() * 2))"
   ]
  },
  {
   "cell_type": "markdown",
   "metadata": {},
   "source": [
    "## 2. Conduct EDA and provide appropriate visualizations in the process."
   ]
  },
  {
   "cell_type": "code",
   "execution_count": null,
   "metadata": {},
   "outputs": [],
   "source": []
  },
  {
   "cell_type": "markdown",
   "metadata": {},
   "source": [
    "## 3. Build a minimum of two separate regression models using the training set."
   ]
  },
  {
   "cell_type": "code",
   "execution_count": 46,
   "metadata": {},
   "outputs": [
    {
     "name": "stdout",
     "output_type": "stream",
     "text": [
      "Model Score: 0.8045860973811353\n"
     ]
    }
   ],
   "source": [
    "lin_reg = LinearRegression()\n",
    "lin_reg.fit(x_train, y_train)\n",
    "print(f\"Model Score: {lin_reg.score(x_train, y_train)}\")"
   ]
  },
  {
   "cell_type": "code",
   "execution_count": 47,
   "metadata": {},
   "outputs": [
    {
     "data": {
      "image/png": "[encoded data removed]",
      "text/plain": [
       "<Figure size 864x288 with 1 Axes>"
      ]
     },
     "metadata": {},
     "output_type": "display_data"
    }
   ],
   "source": [
    "### MinMaxScaler\n",
    "fig, ax = plt.subplots(figsize=(12, 4))\n",
    "\n",
    "scaler = MinMaxScaler()\n",
    "x_minmax_train = scaler.fit_transform(x_train)\n",
    "\n",
    "### Scale test set\n",
    "x_minmax_test = scaler.fit_transform(x_test)\n",
    "\n",
    "ax.hist(x_minmax_train [:,0]);\n",
    "ax.hist(x_minmax_train [:,1]);\n",
    "ax.hist(x_minmax_train [:,2]);\n",
    "ax.hist(x_minmax_train [:,3]);"
   ]
  },
  {
   "cell_type": "markdown",
   "metadata": {},
   "source": [
    "### Linear Regression"
   ]
  },
  {
   "cell_type": "code",
   "execution_count": 48,
   "metadata": {},
   "outputs": [
    {
     "name": "stdout",
     "output_type": "stream",
     "text": [
      "Linear Regression coefficients: [323762.01680274 179994.54752283 -25555.15106736  58732.47329721]\n",
      "Linear Regression intercept: -56720.78988255447\n",
      "Model Score: 0.8045860973811354\n"
     ]
    }
   ],
   "source": [
    "reg = LinearRegression()\n",
    "reg.fit(x_minmax_train, y_train)\n",
    "print(f'Linear Regression coefficients: {reg.coef_}')\n",
    "print(f'Linear Regression intercept: {reg.intercept_}')\n",
    "print(f\"Model Score: {reg.score(x_minmax_train, y_train)}\")\n",
    "\n",
    "# model evaluation for training set\n",
    "y_train_predict = reg.predict(x_minmax_train)\n",
    "\n",
    "# calculating the intercept and slope for the regression line\n",
    "b, m = np.polynomial.polynomial.polyfit(y_train, y_train_predict, 1)"
   ]
  },
  {
   "cell_type": "code",
   "execution_count": 49,
   "metadata": {},
   "outputs": [
    {
     "data": {
      "image/png": "[encoded data removed]",
      "text/plain": [
       "<Figure size 432x288 with 1 Axes>"
      ]
     },
     "metadata": {},
     "output_type": "display_data"
    }
   ],
   "source": [
    "sns.scatterplot(x=y_train, y=y_train_predict, alpha=0.4)\n",
    "sns.regplot(x=y_train, y=y_train_predict, truncate=True, scatter_kws={'s': 20, 'alpha':0.3}, \n",
    "            line_kws={'color':'green', 'linewidth': 2})\n",
    "sns.lineplot(x=np.unique(y_train), y=np.unique(np.poly1d(b + m * np.unique(y_train))), linewidth=0.5, color='r')\n",
    "\n",
    "plt.xlabel(\"Actual Sale Prices\")\n",
    "plt.ylabel(\"Predicted Sale Prices\")\n",
    "plt.title(\"Actual Prices vs Predicted prices [Training Set]\")\n",
    " \n",
    "plt.show()"
   ]
  },
  {
   "cell_type": "markdown",
   "metadata": {},
   "source": [
    "### Lasso regression"
   ]
  },
  {
   "cell_type": "markdown",
   "metadata": {},
   "source": [
    "SalePrice       1.000000\n",
    "TotalSqft       0.832877\n",
    "OverallQual     0.795774\n",
    "GrLivArea       0.734968\n",
    "TotalBsmtSF     0.651153\n",
    "GarageCars      0.641047\n",
    "TotalBath       0.635896\n",
    "1stFlrSF        0.631530\n",
    "GarageArea      0.629217\n",
    "FullBath        0.562165\n",
    "TotRmsAbvGrd    0.537769"
   ]
  },
  {
   "cell_type": "code",
   "execution_count": 55,
   "metadata": {},
   "outputs": [
    {
     "name": "stdout",
     "output_type": "stream",
     "text": [
      "(1093, 9) (365, 9) (1093,) (365,)\n"
     ]
    }
   ],
   "source": [
    "x2 = df_train_clean[['TotalSqft', 'OverallQual', 'TotalBsmtSF', 'GarageCars', \n",
    "                    'TotalBath', '1stFlrSF', 'GarageArea', 'FullBath', 'TotRmsAbvGrd']]\n",
    "y2 = df_train_clean['SalePrice']\n",
    "x_train2, x_test2, y_train2, y_test2 = train_test_split(x2, y2)\n",
    "\n",
    "print(x_train2.shape, x_test2.shape, y_train2.shape, y_test2.shape)"
   ]
  },
  {
   "cell_type": "code",
   "execution_count": 56,
   "metadata": {},
   "outputs": [],
   "source": [
    "scaler = MinMaxScaler()\n",
    "x_minmax_train2 = scaler.fit_transform(x_train2)\n",
    "\n",
    "### Scale test set\n",
    "x_minmax_test2 = scaler.fit_transform(x_test2)"
   ]
  },
  {
   "cell_type": "code",
   "execution_count": 58,
   "metadata": {},
   "outputs": [
    {
     "name": "stdout",
     "output_type": "stream",
     "text": [
      "Linear Regression coefficients: [340057.18785923 167620.01835339 -76192.98436994  15508.53897056\n",
      "  52286.53839875  35448.57138641  49018.64890029 -25932.54180465\n",
      " -20847.63093796]\n",
      "Linear Regression intercept: -11437.610248767189\n",
      "Model Score: 0.8149815098257224\n"
     ]
    }
   ],
   "source": [
    "lasso_reg = Lasso(normalize=True)\n",
    "lasso_reg.fit(x_minmax_train2, y_train2)\n",
    "print(f'Linear Regression coefficients: {lasso_reg.coef_}')\n",
    "print(f'Linear Regression intercept: {lasso_reg.intercept_}')\n",
    "print(f\"Model Score: {lasso_reg.score(x_minmax_train2, y_train2)}\")\n",
    "\n",
    "# model evaluation for training set\n",
    "y_train_predict2 = lasso_reg.predict(x_minmax_train2)\n",
    "\n",
    "# calculating the intercept and slope for the regression line\n",
    "b, m = np.polynomial.polynomial.polyfit(y_train2, y_train_predict2, 1)"
   ]
  },
  {
   "cell_type": "code",
   "execution_count": 59,
   "metadata": {},
   "outputs": [
    {
     "data": {
      "image/png": "[encoded data removed]",
      "text/plain": [
       "<Figure size 432x288 with 1 Axes>"
      ]
     },
     "metadata": {},
     "output_type": "display_data"
    }
   ],
   "source": [
    "sns.scatterplot(x=y_train2, y=y_train_predict2, alpha=0.4)\n",
    "sns.regplot(x=y_train2, y=y_train_predict2, truncate=True, scatter_kws={'s': 20, 'alpha':0.3}, \n",
    "            line_kws={'color':'green', 'linewidth': 2})\n",
    "sns.lineplot(x=np.unique(y_train2), y=np.unique(np.poly1d(b + m * np.unique(y_train2))), linewidth=0.5, color='r')\n",
    "\n",
    "plt.xlabel(\"Actual Sale Prices\")\n",
    "plt.ylabel(\"Predicted Sale Prices\")\n",
    "plt.title(\"Actual Prices vs Predicted prices [Training Set]\")\n",
    " \n",
    "plt.show()"
   ]
  },
  {
   "cell_type": "markdown",
   "metadata": {},
   "source": [
    "## 4. Evaluate polynomial, indicator, dichotomous, & piecewise model components"
   ]
  },
  {
   "cell_type": "markdown",
   "metadata": {},
   "source": [
    "### Polynomial Regression"
   ]
  },
  {
   "cell_type": "code",
   "execution_count": 61,
   "metadata": {},
   "outputs": [],
   "source": [
    "\"Creates a polynomial regression model for the given degree\"\n",
    "poly_features = PolynomialFeatures(degree=2, include_bias=False)\n",
    "   \n",
    "# transform the features to higher degree features.\n",
    "x_train_poly = poly_features.fit_transform(x_minmax_train)\n",
    "   \n",
    "# fit the transformed features to Linear Regression\n",
    "poly_model = LinearRegression()\n",
    "\n",
    "poly_model.fit(x_train_poly, y_train)\n",
    "     \n",
    "# predicting on training data-set\n",
    "y_train_predicted = poly_model.predict(x_train_poly)\n",
    "   \n",
    "# predicting on test data-set\n",
    "y_test_predicted = poly_model.predict(poly_features.fit_transform(x_test))"
   ]
  },
  {
   "cell_type": "code",
   "execution_count": 62,
   "metadata": {},
   "outputs": [
    {
     "data": {
      "image/png": "[encoded data removed]",
      "text/plain": [
       "<Figure size 432x288 with 2 Axes>"
      ]
     },
     "metadata": {},
     "output_type": "display_data"
    }
   ],
   "source": [
    "y_train_residual = y_train_predicted - y_train\n",
    "y_test_residual = y_test_predicted - y_test\n",
    "\n",
    "\n",
    "fig, axes = plt.subplots(2, 1)\n",
    "# Adjust the subplot layout parameters\n",
    "fig.subplots_adjust(hspace=0.125, wspace=0.125)\n",
    "\n",
    "plt.subplot(1, 2, 1)\n",
    "sns.histplot(y_train_residual, bins=25)\n",
    "plt.title('Training Set [Polynomial Model]')\n",
    "\n",
    "plt.subplot(1, 2, 2)\n",
    "sns.histplot(y_test_residual, bins=25)\n",
    "plt.title('Test Set [Polynomial Model]')\n",
    "\n",
    "plt.show()"
   ]
  },
  {
   "cell_type": "code",
   "execution_count": 69,
   "metadata": {},
   "outputs": [],
   "source": [
    "def plot_learning_curves(model, X, y):\n",
    "    X_train, X_val, y_train, y_val = train_test_split(X, y, test_size=0.2)\n",
    "    train_errors, val_errors = [], []\n",
    "    for m in range(1, len(X_train)):\n",
    "        model.fit(X_train[:m], y_train[:m])\n",
    "        y_train_predict = model.predict(X_train[:m])\n",
    "        y_val_predict = model.predict(X_val)\n",
    "        train_errors.append(mean_squared_error(y_train[:m], y_train_predict))\n",
    "        val_errors.append(mean_squared_error(y_val, y_val_predict))\n",
    "    plt.plot(np.sqrt(train_errors), \"r-+\", linewidth=2, label=\"train\")\n",
    "    plt.plot(np.sqrt(val_errors), \"b-\", linewidth=3, label=\"val\")\n",
    "    plt.legend(labels=[\"train\",\"val\"])"
   ]
  },
  {
   "cell_type": "code",
   "execution_count": 70,
   "metadata": {},
   "outputs": [
    {
     "data": {
      "image/png": "[encoded data removed]",
      "text/plain": [
       "<Figure size 432x288 with 1 Axes>"
      ]
     },
     "metadata": {},
     "output_type": "display_data"
    }
   ],
   "source": [
    "lin_reg = LinearRegression()\n",
    "plot_learning_curves(lin_reg, x_minmax_train, y_train)"
   ]
  },
  {
   "cell_type": "markdown",
   "metadata": {},
   "source": [
    "### Indicator"
   ]
  },
  {
   "cell_type": "code",
   "execution_count": null,
   "metadata": {},
   "outputs": [],
   "source": []
  }
 ],
 "metadata": {
  "kernelspec": {
   "display_name": "Python 3",
   "language": "python",
   "name": "python3"
  },
  "language_info": {
   "codemirror_mode": {
    "name": "ipython",
    "version": 3
   },
   "file_extension": ".py",
   "mimetype": "text/x-python",
   "name": "python",
   "nbconvert_exporter": "python",
   "pygments_lexer": "ipython3",
   "version": "3.8.5"
  }
 },
 "nbformat": 4,
 "nbformat_minor": 4
}
