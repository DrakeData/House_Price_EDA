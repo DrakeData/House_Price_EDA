{
 "cells": [
  {
   "cell_type": "markdown",
   "metadata": {},
   "source": [
    "# Assignment 2 - House Prices: Advanced Regression Techniques"
   ]
  },
  {
   "cell_type": "code",
   "execution_count": 1,
   "metadata": {},
   "outputs": [],
   "source": [
    "import pandas as pd\n",
    "import matplotlib.pyplot as plt\n",
    "import seaborn as sns\n",
    "import numpy as np\n",
    "import os\n",
    "from scipy import stats\n",
    "from scipy.stats import norm\n",
    "from sklearn.preprocessing import StandardScaler\n",
    "from sklearn.preprocessing import MinMaxScaler\n",
    "from sklearn.preprocessing import LabelEncoder\n",
    "from sklearn.preprocessing import PolynomialFeatures\n",
    "from sklearn.impute import SimpleImputer\n",
    "from sklearn.model_selection import train_test_split\n",
    "from sklearn.linear_model import LinearRegression\n",
    "from sklearn.linear_model import LogisticRegression\n",
    "import sklearn.metrics as metrics\n",
    "from sklearn import preprocessing\n",
    "from numpy import array\n",
    "from sklearn.model_selection import KFold, cross_val_score\n",
    "from sklearn.linear_model import Lasso\n",
    "from sklearn.metrics import mean_squared_error\n",
    "from mlinsights.mlmodel import PiecewiseRegressor\n",
    "from sklearn.tree import DecisionTreeRegressor\n",
    "\n",
    "%matplotlib inline\n",
    "sns.set()"
   ]
  },
  {
   "cell_type": "markdown",
   "metadata": {},
   "source": [
    "## Import Data\n",
    "'train_clean.csv' and 'test_clean.csv' is the cleaned up trained data set that worked on in Assignment 1."
   ]
  },
  {
   "cell_type": "code",
   "execution_count": 2,
   "metadata": {
    "scrolled": true
   },
   "outputs": [
    {
     "data": {
      "text/html": [
       "<div>\n",
       "<style scoped>\n",
       "    .dataframe tbody tr th:only-of-type {\n",
       "        vertical-align: middle;\n",
       "    }\n",
       "\n",
       "    .dataframe tbody tr th {\n",
       "        vertical-align: top;\n",
       "    }\n",
       "\n",
       "    .dataframe thead th {\n",
       "        text-align: right;\n",
       "    }\n",
       "</style>\n",
       "<table border=\"1\" class=\"dataframe\">\n",
       "  <thead>\n",
       "    <tr style=\"text-align: right;\">\n",
       "      <th></th>\n",
       "      <th>Id</th>\n",
       "      <th>MSSubClass</th>\n",
       "      <th>MSZoning</th>\n",
       "      <th>LotFrontage</th>\n",
       "      <th>LotArea</th>\n",
       "      <th>Street</th>\n",
       "      <th>Alley</th>\n",
       "      <th>LotShape</th>\n",
       "      <th>LandContour</th>\n",
       "      <th>Utilities</th>\n",
       "      <th>...</th>\n",
       "      <th>MiscVal</th>\n",
       "      <th>MoSold</th>\n",
       "      <th>YrSold</th>\n",
       "      <th>SaleType</th>\n",
       "      <th>SaleCondition</th>\n",
       "      <th>SalePrice</th>\n",
       "      <th>TotalSqft</th>\n",
       "      <th>TotalBath</th>\n",
       "      <th>HouseAge</th>\n",
       "      <th>ReModeled</th>\n",
       "    </tr>\n",
       "  </thead>\n",
       "  <tbody>\n",
       "    <tr>\n",
       "      <th>0</th>\n",
       "      <td>1</td>\n",
       "      <td>60</td>\n",
       "      <td>RL</td>\n",
       "      <td>65.0</td>\n",
       "      <td>8450</td>\n",
       "      <td>Pave</td>\n",
       "      <td>None</td>\n",
       "      <td>Reg</td>\n",
       "      <td>Lvl</td>\n",
       "      <td>AllPub</td>\n",
       "      <td>...</td>\n",
       "      <td>0</td>\n",
       "      <td>2</td>\n",
       "      <td>2008</td>\n",
       "      <td>WD</td>\n",
       "      <td>Normal</td>\n",
       "      <td>208500</td>\n",
       "      <td>2566</td>\n",
       "      <td>3.5</td>\n",
       "      <td>5</td>\n",
       "      <td>0</td>\n",
       "    </tr>\n",
       "    <tr>\n",
       "      <th>1</th>\n",
       "      <td>2</td>\n",
       "      <td>20</td>\n",
       "      <td>RL</td>\n",
       "      <td>80.0</td>\n",
       "      <td>9600</td>\n",
       "      <td>Pave</td>\n",
       "      <td>None</td>\n",
       "      <td>Reg</td>\n",
       "      <td>Lvl</td>\n",
       "      <td>AllPub</td>\n",
       "      <td>...</td>\n",
       "      <td>0</td>\n",
       "      <td>5</td>\n",
       "      <td>2007</td>\n",
       "      <td>WD</td>\n",
       "      <td>Normal</td>\n",
       "      <td>181500</td>\n",
       "      <td>2524</td>\n",
       "      <td>2.5</td>\n",
       "      <td>31</td>\n",
       "      <td>0</td>\n",
       "    </tr>\n",
       "    <tr>\n",
       "      <th>2</th>\n",
       "      <td>3</td>\n",
       "      <td>60</td>\n",
       "      <td>RL</td>\n",
       "      <td>68.0</td>\n",
       "      <td>11250</td>\n",
       "      <td>Pave</td>\n",
       "      <td>None</td>\n",
       "      <td>IR1</td>\n",
       "      <td>Lvl</td>\n",
       "      <td>AllPub</td>\n",
       "      <td>...</td>\n",
       "      <td>0</td>\n",
       "      <td>9</td>\n",
       "      <td>2008</td>\n",
       "      <td>WD</td>\n",
       "      <td>Normal</td>\n",
       "      <td>223500</td>\n",
       "      <td>2706</td>\n",
       "      <td>3.5</td>\n",
       "      <td>7</td>\n",
       "      <td>1</td>\n",
       "    </tr>\n",
       "    <tr>\n",
       "      <th>3</th>\n",
       "      <td>4</td>\n",
       "      <td>70</td>\n",
       "      <td>RL</td>\n",
       "      <td>60.0</td>\n",
       "      <td>9550</td>\n",
       "      <td>Pave</td>\n",
       "      <td>None</td>\n",
       "      <td>IR1</td>\n",
       "      <td>Lvl</td>\n",
       "      <td>AllPub</td>\n",
       "      <td>...</td>\n",
       "      <td>0</td>\n",
       "      <td>2</td>\n",
       "      <td>2006</td>\n",
       "      <td>WD</td>\n",
       "      <td>Abnorml</td>\n",
       "      <td>140000</td>\n",
       "      <td>2473</td>\n",
       "      <td>2.0</td>\n",
       "      <td>91</td>\n",
       "      <td>1</td>\n",
       "    </tr>\n",
       "    <tr>\n",
       "      <th>4</th>\n",
       "      <td>5</td>\n",
       "      <td>60</td>\n",
       "      <td>RL</td>\n",
       "      <td>84.0</td>\n",
       "      <td>14260</td>\n",
       "      <td>Pave</td>\n",
       "      <td>None</td>\n",
       "      <td>IR1</td>\n",
       "      <td>Lvl</td>\n",
       "      <td>AllPub</td>\n",
       "      <td>...</td>\n",
       "      <td>0</td>\n",
       "      <td>12</td>\n",
       "      <td>2008</td>\n",
       "      <td>WD</td>\n",
       "      <td>Normal</td>\n",
       "      <td>250000</td>\n",
       "      <td>3343</td>\n",
       "      <td>3.5</td>\n",
       "      <td>8</td>\n",
       "      <td>0</td>\n",
       "    </tr>\n",
       "  </tbody>\n",
       "</table>\n",
       "<p>5 rows × 85 columns</p>\n",
       "</div>"
      ],
      "text/plain": [
       "   Id  MSSubClass MSZoning  LotFrontage  LotArea Street Alley LotShape  \\\n",
       "0   1          60       RL         65.0     8450   Pave  None      Reg   \n",
       "1   2          20       RL         80.0     9600   Pave  None      Reg   \n",
       "2   3          60       RL         68.0    11250   Pave  None      IR1   \n",
       "3   4          70       RL         60.0     9550   Pave  None      IR1   \n",
       "4   5          60       RL         84.0    14260   Pave  None      IR1   \n",
       "\n",
       "  LandContour Utilities  ... MiscVal MoSold YrSold SaleType SaleCondition  \\\n",
       "0         Lvl    AllPub  ...       0      2   2008       WD        Normal   \n",
       "1         Lvl    AllPub  ...       0      5   2007       WD        Normal   \n",
       "2         Lvl    AllPub  ...       0      9   2008       WD        Normal   \n",
       "3         Lvl    AllPub  ...       0      2   2006       WD       Abnorml   \n",
       "4         Lvl    AllPub  ...       0     12   2008       WD        Normal   \n",
       "\n",
       "  SalePrice TotalSqft  TotalBath  HouseAge  ReModeled  \n",
       "0    208500      2566        3.5         5          0  \n",
       "1    181500      2524        2.5        31          0  \n",
       "2    223500      2706        3.5         7          1  \n",
       "3    140000      2473        2.0        91          1  \n",
       "4    250000      3343        3.5         8          0  \n",
       "\n",
       "[5 rows x 85 columns]"
      ]
     },
     "execution_count": 2,
     "metadata": {},
     "output_type": "execute_result"
    }
   ],
   "source": [
    "# Create file path\n",
    "train_clean_file = os.path.join(os.getcwd(), 'data', 'train_clean.csv')\n",
    "test_clean_file = os.path.join(os.getcwd(), 'data', 'test_clean.csv')\n",
    "\n",
    "# Load csv into pandas df\n",
    "df_train_clean = pd.read_csv(train_clean_file)\n",
    "df_test_clean = pd.read_csv(test_clean_file)\n",
    "\n",
    "df_train_clean.head()"
   ]
  },
  {
   "cell_type": "code",
   "execution_count": 3,
   "metadata": {},
   "outputs": [
    {
     "name": "stdout",
     "output_type": "stream",
     "text": [
      "<class 'pandas.core.frame.DataFrame'>\n",
      "RangeIndex: 1458 entries, 0 to 1457\n",
      "Data columns (total 85 columns):\n",
      " #   Column         Non-Null Count  Dtype  \n",
      "---  ------         --------------  -----  \n",
      " 0   Id             1458 non-null   int64  \n",
      " 1   MSSubClass     1458 non-null   int64  \n",
      " 2   MSZoning       1458 non-null   object \n",
      " 3   LotFrontage    1458 non-null   float64\n",
      " 4   LotArea        1458 non-null   int64  \n",
      " 5   Street         1458 non-null   object \n",
      " 6   Alley          1458 non-null   object \n",
      " 7   LotShape       1458 non-null   object \n",
      " 8   LandContour    1458 non-null   object \n",
      " 9   Utilities      1458 non-null   object \n",
      " 10  LotConfig      1458 non-null   object \n",
      " 11  LandSlope      1458 non-null   object \n",
      " 12  Neighborhood   1458 non-null   object \n",
      " 13  Condition1     1458 non-null   object \n",
      " 14  Condition2     1458 non-null   object \n",
      " 15  BldgType       1458 non-null   object \n",
      " 16  HouseStyle     1458 non-null   object \n",
      " 17  OverallQual    1458 non-null   int64  \n",
      " 18  OverallCond    1458 non-null   int64  \n",
      " 19  YearBuilt      1458 non-null   int64  \n",
      " 20  YearRemodAdd   1458 non-null   int64  \n",
      " 21  RoofStyle      1458 non-null   object \n",
      " 22  RoofMatl       1458 non-null   object \n",
      " 23  Exterior1st    1458 non-null   object \n",
      " 24  Exterior2nd    1458 non-null   object \n",
      " 25  MasVnrType     1458 non-null   object \n",
      " 26  MasVnrArea     1458 non-null   float64\n",
      " 27  ExterQual      1458 non-null   object \n",
      " 28  ExterCond      1458 non-null   object \n",
      " 29  Foundation     1458 non-null   object \n",
      " 30  BsmtQual       1458 non-null   object \n",
      " 31  BsmtCond       1458 non-null   object \n",
      " 32  BsmtExposure   1458 non-null   object \n",
      " 33  BsmtFinType1   1458 non-null   object \n",
      " 34  BsmtFinSF1     1458 non-null   int64  \n",
      " 35  BsmtFinType2   1458 non-null   object \n",
      " 36  BsmtFinSF2     1458 non-null   int64  \n",
      " 37  BsmtUnfSF      1458 non-null   int64  \n",
      " 38  TotalBsmtSF    1458 non-null   int64  \n",
      " 39  Heating        1458 non-null   object \n",
      " 40  HeatingQC      1458 non-null   object \n",
      " 41  CentralAir     1458 non-null   object \n",
      " 42  Electrical     1458 non-null   object \n",
      " 43  1stFlrSF       1458 non-null   int64  \n",
      " 44  2ndFlrSF       1458 non-null   int64  \n",
      " 45  LowQualFinSF   1458 non-null   int64  \n",
      " 46  GrLivArea      1458 non-null   int64  \n",
      " 47  BsmtFullBath   1458 non-null   int64  \n",
      " 48  BsmtHalfBath   1458 non-null   int64  \n",
      " 49  FullBath       1458 non-null   int64  \n",
      " 50  HalfBath       1458 non-null   int64  \n",
      " 51  BedroomAbvGr   1458 non-null   int64  \n",
      " 52  KitchenAbvGr   1458 non-null   int64  \n",
      " 53  KitchenQual    1458 non-null   object \n",
      " 54  TotRmsAbvGrd   1458 non-null   int64  \n",
      " 55  Functional     1458 non-null   object \n",
      " 56  Fireplaces     1458 non-null   int64  \n",
      " 57  FireplaceQu    1458 non-null   int64  \n",
      " 58  GarageType     1458 non-null   object \n",
      " 59  GarageYrBlt    1458 non-null   float64\n",
      " 60  GarageFinish   1458 non-null   object \n",
      " 61  GarageCars     1458 non-null   int64  \n",
      " 62  GarageArea     1458 non-null   int64  \n",
      " 63  GarageQual     1458 non-null   object \n",
      " 64  GarageCond     1458 non-null   object \n",
      " 65  PavedDrive     1458 non-null   object \n",
      " 66  WoodDeckSF     1458 non-null   int64  \n",
      " 67  OpenPorchSF    1458 non-null   int64  \n",
      " 68  EnclosedPorch  1458 non-null   int64  \n",
      " 69  3SsnPorch      1458 non-null   int64  \n",
      " 70  ScreenPorch    1458 non-null   int64  \n",
      " 71  PoolArea       1458 non-null   int64  \n",
      " 72  PoolQC         1458 non-null   object \n",
      " 73  Fence          1458 non-null   object \n",
      " 74  MiscFeature    1458 non-null   object \n",
      " 75  MiscVal        1458 non-null   int64  \n",
      " 76  MoSold         1458 non-null   int64  \n",
      " 77  YrSold         1458 non-null   int64  \n",
      " 78  SaleType       1458 non-null   object \n",
      " 79  SaleCondition  1458 non-null   object \n",
      " 80  SalePrice      1458 non-null   int64  \n",
      " 81  TotalSqft      1458 non-null   int64  \n",
      " 82  TotalBath      1458 non-null   float64\n",
      " 83  HouseAge       1458 non-null   int64  \n",
      " 84  ReModeled      1458 non-null   int64  \n",
      "dtypes: float64(4), int64(39), object(42)\n",
      "memory usage: 968.3+ KB\n"
     ]
    }
   ],
   "source": [
    "df_train_clean.info()"
   ]
  },
  {
   "cell_type": "code",
   "execution_count": 4,
   "metadata": {},
   "outputs": [
    {
     "name": "stdout",
     "output_type": "stream",
     "text": [
      "<class 'pandas.core.frame.DataFrame'>\n",
      "RangeIndex: 1459 entries, 0 to 1458\n",
      "Data columns (total 84 columns):\n",
      " #   Column         Non-Null Count  Dtype  \n",
      "---  ------         --------------  -----  \n",
      " 0   Id             1459 non-null   int64  \n",
      " 1   MSSubClass     1459 non-null   int64  \n",
      " 2   MSZoning       1459 non-null   object \n",
      " 3   LotFrontage    1459 non-null   float64\n",
      " 4   LotArea        1459 non-null   int64  \n",
      " 5   Street         1459 non-null   object \n",
      " 6   Alley          1459 non-null   object \n",
      " 7   LotShape       1459 non-null   object \n",
      " 8   LandContour    1459 non-null   object \n",
      " 9   Utilities      1459 non-null   object \n",
      " 10  LotConfig      1459 non-null   object \n",
      " 11  LandSlope      1459 non-null   object \n",
      " 12  Neighborhood   1459 non-null   object \n",
      " 13  Condition1     1459 non-null   object \n",
      " 14  Condition2     1459 non-null   object \n",
      " 15  BldgType       1459 non-null   object \n",
      " 16  HouseStyle     1459 non-null   object \n",
      " 17  OverallQual    1459 non-null   int64  \n",
      " 18  OverallCond    1459 non-null   int64  \n",
      " 19  YearBuilt      1459 non-null   int64  \n",
      " 20  YearRemodAdd   1459 non-null   int64  \n",
      " 21  RoofStyle      1459 non-null   object \n",
      " 22  RoofMatl       1459 non-null   object \n",
      " 23  Exterior1st    1459 non-null   object \n",
      " 24  Exterior2nd    1459 non-null   object \n",
      " 25  MasVnrType     1459 non-null   object \n",
      " 26  MasVnrArea     1459 non-null   float64\n",
      " 27  ExterQual      1459 non-null   object \n",
      " 28  ExterCond      1459 non-null   object \n",
      " 29  Foundation     1459 non-null   object \n",
      " 30  BsmtQual       1459 non-null   object \n",
      " 31  BsmtCond       1459 non-null   object \n",
      " 32  BsmtExposure   1459 non-null   object \n",
      " 33  BsmtFinType1   1459 non-null   object \n",
      " 34  BsmtFinSF1     1459 non-null   float64\n",
      " 35  BsmtFinType2   1459 non-null   object \n",
      " 36  BsmtFinSF2     1459 non-null   float64\n",
      " 37  BsmtUnfSF      1459 non-null   float64\n",
      " 38  TotalBsmtSF    1459 non-null   float64\n",
      " 39  Heating        1459 non-null   object \n",
      " 40  HeatingQC      1459 non-null   object \n",
      " 41  CentralAir     1459 non-null   object \n",
      " 42  Electrical     1459 non-null   object \n",
      " 43  1stFlrSF       1459 non-null   int64  \n",
      " 44  2ndFlrSF       1459 non-null   int64  \n",
      " 45  LowQualFinSF   1459 non-null   int64  \n",
      " 46  GrLivArea      1459 non-null   int64  \n",
      " 47  BsmtFullBath   1459 non-null   float64\n",
      " 48  BsmtHalfBath   1459 non-null   float64\n",
      " 49  FullBath       1459 non-null   int64  \n",
      " 50  HalfBath       1459 non-null   int64  \n",
      " 51  BedroomAbvGr   1459 non-null   int64  \n",
      " 52  KitchenAbvGr   1459 non-null   int64  \n",
      " 53  KitchenQual    1459 non-null   object \n",
      " 54  TotRmsAbvGrd   1459 non-null   int64  \n",
      " 55  Functional     1459 non-null   object \n",
      " 56  Fireplaces     1459 non-null   int64  \n",
      " 57  FireplaceQu    1459 non-null   int64  \n",
      " 58  GarageType     1459 non-null   object \n",
      " 59  GarageYrBlt    1459 non-null   float64\n",
      " 60  GarageFinish   1459 non-null   object \n",
      " 61  GarageCars     1459 non-null   float64\n",
      " 62  GarageArea     1459 non-null   float64\n",
      " 63  GarageQual     1459 non-null   object \n",
      " 64  GarageCond     1459 non-null   object \n",
      " 65  PavedDrive     1459 non-null   object \n",
      " 66  WoodDeckSF     1459 non-null   int64  \n",
      " 67  OpenPorchSF    1459 non-null   int64  \n",
      " 68  EnclosedPorch  1459 non-null   int64  \n",
      " 69  3SsnPorch      1459 non-null   int64  \n",
      " 70  ScreenPorch    1459 non-null   int64  \n",
      " 71  PoolArea       1459 non-null   int64  \n",
      " 72  PoolQC         1459 non-null   object \n",
      " 73  Fence          1459 non-null   object \n",
      " 74  MiscFeature    1459 non-null   object \n",
      " 75  MiscVal        1459 non-null   int64  \n",
      " 76  MoSold         1459 non-null   int64  \n",
      " 77  YrSold         1459 non-null   int64  \n",
      " 78  SaleType       1459 non-null   object \n",
      " 79  SaleCondition  1459 non-null   object \n",
      " 80  TotalSqft      1459 non-null   float64\n",
      " 81  TotalBath      1459 non-null   float64\n",
      " 82  HouseAge       1459 non-null   int64  \n",
      " 83  ReModeled      1459 non-null   int64  \n",
      "dtypes: float64(13), int64(29), object(42)\n",
      "memory usage: 957.6+ KB\n"
     ]
    }
   ],
   "source": [
    "df_test_clean.info()"
   ]
  },
  {
   "cell_type": "code",
   "execution_count": null,
   "metadata": {},
   "outputs": [],
   "source": []
  },
  {
   "cell_type": "markdown",
   "metadata": {},
   "source": [
    "## Prep the data for analysis"
   ]
  },
  {
   "cell_type": "code",
   "execution_count": 5,
   "metadata": {},
   "outputs": [
    {
     "data": {
      "text/plain": [
       "((1458, 84), (1458,), (1458, 85))"
      ]
     },
     "execution_count": 5,
     "metadata": {},
     "output_type": "execute_result"
    }
   ],
   "source": [
    "# train set\n",
    "x_train = df_train_clean.drop(columns=[\"SalePrice\"], axis=1)\n",
    "y_train = df_train_clean['SalePrice']\n",
    "\n",
    "x_train.shape, y_train.shape, df_train_clean.shape"
   ]
  },
  {
   "cell_type": "markdown",
   "metadata": {},
   "source": [
    "### Filter data to look at significant features and remove the features with a correlation score < 0.5 with SalePrice"
   ]
  },
  {
   "cell_type": "code",
   "execution_count": 6,
   "metadata": {
    "scrolled": false
   },
   "outputs": [
    {
     "data": {
      "text/plain": [
       "OverallQual     0.795774\n",
       "YearBuilt       0.523608\n",
       "YearRemodAdd    0.507717\n",
       "MasVnrArea      0.477810\n",
       "BsmtFinSF1      0.409384\n",
       "TotalBsmtSF     0.651153\n",
       "1stFlrSF        0.631530\n",
       "GrLivArea       0.734968\n",
       "FullBath        0.562165\n",
       "TotRmsAbvGrd    0.537769\n",
       "Fireplaces      0.469862\n",
       "FireplaceQu     0.521144\n",
       "GarageYrBlt     0.508719\n",
       "GarageCars      0.641047\n",
       "GarageArea      0.629217\n",
       "SalePrice       1.000000\n",
       "TotalSqft       0.832877\n",
       "TotalBath       0.635896\n",
       "HouseAge       -0.524067\n",
       "Name: SalePrice, dtype: float64"
      ]
     },
     "execution_count": 6,
     "metadata": {},
     "output_type": "execute_result"
    }
   ],
   "source": [
    "corr_mat = df_train_clean.corr()\n",
    "corr_mat['SalePrice'][(corr_mat[\"SalePrice\"] > 0.40) | (corr_mat[\"SalePrice\"] < -0.40)]"
   ]
  },
  {
   "cell_type": "markdown",
   "metadata": {},
   "source": [
    "#### Look at only the important numerical features"
   ]
  },
  {
   "cell_type": "code",
   "execution_count": 7,
   "metadata": {},
   "outputs": [
    {
     "name": "stdout",
     "output_type": "stream",
     "text": [
      "['OverallQual', 'YearBuilt', 'YearRemodAdd', 'TotalBsmtSF', '1stFlrSF', 'GrLivArea', 'FullBath', 'TotRmsAbvGrd', 'FireplaceQu', 'GarageYrBlt', 'GarageCars', 'GarageArea', 'TotalSqft', 'TotalBath', 'HouseAge']\n"
     ]
    }
   ],
   "source": [
    "important_num_cols = list(corr_mat['SalePrice'][(corr_mat[\"SalePrice\"] > 0.5) | (corr_mat[\"SalePrice\"] < -0.5)].index)\n",
    "\n",
    "important_num_cols.remove('SalePrice')\n",
    "len(important_num_cols)\n",
    "print(important_num_cols)"
   ]
  },
  {
   "cell_type": "code",
   "execution_count": 8,
   "metadata": {},
   "outputs": [
    {
     "data": {
      "text/plain": [
       "(1458, 15)"
      ]
     },
     "execution_count": 8,
     "metadata": {},
     "output_type": "execute_result"
    }
   ],
   "source": [
    "x_num_only = x_train[important_num_cols]\n",
    "x_num_only.shape"
   ]
  },
  {
   "cell_type": "markdown",
   "metadata": {},
   "source": [
    "#### Look at the features that are highly correlated with each other and drop them from our analysis.\n",
    "We do this so to remove the 'noise' from our data as it will impact our regression model by feeding it the same information."
   ]
  },
  {
   "cell_type": "code",
   "execution_count": 9,
   "metadata": {},
   "outputs": [
    {
     "data": {
      "image/png": "[encoded data removed]",
      "text/plain": [
       "<Figure size 720x576 with 2 Axes>"
      ]
     },
     "metadata": {},
     "output_type": "display_data"
    }
   ],
   "source": [
    "plt.figure(figsize=(10,8))\n",
    "sns.heatmap(x_num_only.corr(), center = 0)\n",
    "plt.title(\"Correlations Between Columns\")\n",
    "plt.show()"
   ]
  },
  {
   "cell_type": "code",
   "execution_count": 10,
   "metadata": {},
   "outputs": [
    {
     "data": {
      "text/plain": [
       "15"
      ]
     },
     "execution_count": 10,
     "metadata": {},
     "output_type": "execute_result"
    }
   ],
   "source": [
    "corr_x = x_num_only.corr()\n",
    "len(corr_x)"
   ]
  },
  {
   "cell_type": "code",
   "execution_count": 11,
   "metadata": {},
   "outputs": [
    {
     "name": "stdout",
     "output_type": "stream",
     "text": [
      "corr: 0.6007408233586187, row: 0, column: 10; OverallQual, GarageCars\n",
      "corr: 0.677324662815223, row: 0, column: 12; OverallQual, TotalSqft\n",
      "corr: 0.8448398583188299, row: 1, column: 9; YearBuilt, GarageYrBlt\n",
      "corr: -0.9990342610821568, row: 1, column: 14; YearBuilt, HouseAge\n",
      "corr: 0.6036359426335961, row: 2, column: 9; YearRemodAdd, GarageYrBlt\n",
      "corr: 0.8038296279256137, row: 3, column: 4; TotalBsmtSF, 1stFlrSF\n",
      "corr: 0.8063997413782675, row: 3, column: 12; TotalBsmtSF, TotalSqft\n",
      "corr: 0.7819168108101032, row: 4, column: 12; 1stFlrSF, TotalSqft\n",
      "corr: 0.6383784637415114, row: 5, column: 6; GrLivArea, FullBath\n",
      "corr: 0.8294981976715387, row: 5, column: 7; GrLivArea, TotRmsAbvGrd\n",
      "corr: 0.8663861141668217, row: 5, column: 12; GrLivArea, TotalSqft\n",
      "corr: 0.6932148078878521, row: 6, column: 13; FullBath, TotalBath\n",
      "corr: 0.678560717489618, row: 7, column: 12; TotRmsAbvGrd, TotalSqft\n",
      "corr: 0.6195177230785254, row: 9, column: 10; GarageYrBlt, GarageCars\n",
      "corr: 0.6030387164134533, row: 9, column: 11; GarageYrBlt, GarageArea\n",
      "corr: -0.8439500920867425, row: 9, column: 14; GarageYrBlt, HouseAge\n",
      "corr: 0.8873044983919205, row: 10, column: 11; GarageCars, GarageArea\n",
      "corr: 0.6081610055633059, row: 12, column: 13; TotalSqft, TotalBath\n"
     ]
    }
   ],
   "source": [
    "for i in range(0, len(corr_x) - 1):\n",
    "    for j in range(i + 1, len(corr_x)):\n",
    "        if(corr_x.iloc[i, j] < -0.6 or corr_x.iloc[i, j] > 0.6):\n",
    "            print(f\"corr: {corr_x.iloc[i, j]}, row: {i}, column: {j}; {corr_x.index[i]}, {corr_x.index[j]}\")"
   ]
  },
  {
   "cell_type": "code",
   "execution_count": 12,
   "metadata": {},
   "outputs": [
    {
     "data": {
      "text/plain": [
       "['OverallQual',\n",
       " 'YearBuilt',\n",
       " 'YearRemodAdd',\n",
       " 'TotalBsmtSF',\n",
       " 'GrLivArea',\n",
       " 'FireplaceQu',\n",
       " 'GarageYrBlt',\n",
       " 'GarageCars',\n",
       " 'TotalSqft',\n",
       " 'TotalBath',\n",
       " 'HouseAge']"
      ]
     },
     "execution_count": 12,
     "metadata": {},
     "output_type": "execute_result"
    }
   ],
   "source": [
    "# from the information above, we want to drop '1stFlrSF', 'FullBath', 'TotRmsAbvGrd', and 'GarageArea'\n",
    "num_cols = [i for i in x_num_only.columns if i not in ['1stFlrSF', 'FullBath', 'TotRmsAbvGrd', 'GarageArea']]\n",
    "num_cols"
   ]
  },
  {
   "cell_type": "code",
   "execution_count": 13,
   "metadata": {},
   "outputs": [
    {
     "data": {
      "text/html": [
       "<div>\n",
       "<style scoped>\n",
       "    .dataframe tbody tr th:only-of-type {\n",
       "        vertical-align: middle;\n",
       "    }\n",
       "\n",
       "    .dataframe tbody tr th {\n",
       "        vertical-align: top;\n",
       "    }\n",
       "\n",
       "    .dataframe thead th {\n",
       "        text-align: right;\n",
       "    }\n",
       "</style>\n",
       "<table border=\"1\" class=\"dataframe\">\n",
       "  <thead>\n",
       "    <tr style=\"text-align: right;\">\n",
       "      <th></th>\n",
       "      <th>OverallQual</th>\n",
       "      <th>YearBuilt</th>\n",
       "      <th>YearRemodAdd</th>\n",
       "      <th>TotalBsmtSF</th>\n",
       "      <th>GrLivArea</th>\n",
       "      <th>FireplaceQu</th>\n",
       "      <th>GarageYrBlt</th>\n",
       "      <th>GarageCars</th>\n",
       "      <th>TotalSqft</th>\n",
       "      <th>TotalBath</th>\n",
       "      <th>HouseAge</th>\n",
       "    </tr>\n",
       "  </thead>\n",
       "  <tbody>\n",
       "    <tr>\n",
       "      <th>0</th>\n",
       "      <td>7</td>\n",
       "      <td>2003</td>\n",
       "      <td>2003</td>\n",
       "      <td>856</td>\n",
       "      <td>1710</td>\n",
       "      <td>0</td>\n",
       "      <td>2003.0</td>\n",
       "      <td>2</td>\n",
       "      <td>2566</td>\n",
       "      <td>3.5</td>\n",
       "      <td>5</td>\n",
       "    </tr>\n",
       "    <tr>\n",
       "      <th>1</th>\n",
       "      <td>6</td>\n",
       "      <td>1976</td>\n",
       "      <td>1976</td>\n",
       "      <td>1262</td>\n",
       "      <td>1262</td>\n",
       "      <td>3</td>\n",
       "      <td>1976.0</td>\n",
       "      <td>2</td>\n",
       "      <td>2524</td>\n",
       "      <td>2.5</td>\n",
       "      <td>31</td>\n",
       "    </tr>\n",
       "    <tr>\n",
       "      <th>2</th>\n",
       "      <td>7</td>\n",
       "      <td>2001</td>\n",
       "      <td>2002</td>\n",
       "      <td>920</td>\n",
       "      <td>1786</td>\n",
       "      <td>3</td>\n",
       "      <td>2001.0</td>\n",
       "      <td>2</td>\n",
       "      <td>2706</td>\n",
       "      <td>3.5</td>\n",
       "      <td>7</td>\n",
       "    </tr>\n",
       "    <tr>\n",
       "      <th>3</th>\n",
       "      <td>7</td>\n",
       "      <td>1915</td>\n",
       "      <td>1970</td>\n",
       "      <td>756</td>\n",
       "      <td>1717</td>\n",
       "      <td>4</td>\n",
       "      <td>1998.0</td>\n",
       "      <td>3</td>\n",
       "      <td>2473</td>\n",
       "      <td>2.0</td>\n",
       "      <td>91</td>\n",
       "    </tr>\n",
       "    <tr>\n",
       "      <th>4</th>\n",
       "      <td>8</td>\n",
       "      <td>2000</td>\n",
       "      <td>2000</td>\n",
       "      <td>1145</td>\n",
       "      <td>2198</td>\n",
       "      <td>3</td>\n",
       "      <td>2000.0</td>\n",
       "      <td>3</td>\n",
       "      <td>3343</td>\n",
       "      <td>3.5</td>\n",
       "      <td>8</td>\n",
       "    </tr>\n",
       "  </tbody>\n",
       "</table>\n",
       "</div>"
      ],
      "text/plain": [
       "   OverallQual  YearBuilt  YearRemodAdd  TotalBsmtSF  GrLivArea  FireplaceQu  \\\n",
       "0            7       2003          2003          856       1710            0   \n",
       "1            6       1976          1976         1262       1262            3   \n",
       "2            7       2001          2002          920       1786            3   \n",
       "3            7       1915          1970          756       1717            4   \n",
       "4            8       2000          2000         1145       2198            3   \n",
       "\n",
       "   GarageYrBlt  GarageCars  TotalSqft  TotalBath  HouseAge  \n",
       "0       2003.0           2       2566        3.5         5  \n",
       "1       1976.0           2       2524        2.5        31  \n",
       "2       2001.0           2       2706        3.5         7  \n",
       "3       1998.0           3       2473        2.0        91  \n",
       "4       2000.0           3       3343        3.5         8  "
      ]
     },
     "execution_count": 13,
     "metadata": {},
     "output_type": "execute_result"
    }
   ],
   "source": [
    "num_df_train = x_train[num_cols]\n",
    "num_df_train.head()"
   ]
  },
  {
   "cell_type": "markdown",
   "metadata": {},
   "source": [
    "#### Update 'YearRemodAdd' to show how long it has been for when the house was built and when it was remodeled"
   ]
  },
  {
   "cell_type": "code",
   "execution_count": 16,
   "metadata": {},
   "outputs": [
    {
     "data": {
      "text/html": [
       "<div>\n",
       "<style scoped>\n",
       "    .dataframe tbody tr th:only-of-type {\n",
       "        vertical-align: middle;\n",
       "    }\n",
       "\n",
       "    .dataframe tbody tr th {\n",
       "        vertical-align: top;\n",
       "    }\n",
       "\n",
       "    .dataframe thead th {\n",
       "        text-align: right;\n",
       "    }\n",
       "</style>\n",
       "<table border=\"1\" class=\"dataframe\">\n",
       "  <thead>\n",
       "    <tr style=\"text-align: right;\">\n",
       "      <th></th>\n",
       "      <th>OverallQual</th>\n",
       "      <th>YearBuilt</th>\n",
       "      <th>YearRemodAdd</th>\n",
       "      <th>TotalBsmtSF</th>\n",
       "      <th>GrLivArea</th>\n",
       "      <th>FireplaceQu</th>\n",
       "      <th>GarageYrBlt</th>\n",
       "      <th>GarageCars</th>\n",
       "      <th>TotalSqft</th>\n",
       "      <th>TotalBath</th>\n",
       "      <th>HouseAge</th>\n",
       "    </tr>\n",
       "  </thead>\n",
       "  <tbody>\n",
       "    <tr>\n",
       "      <th>0</th>\n",
       "      <td>7</td>\n",
       "      <td>2003</td>\n",
       "      <td>0</td>\n",
       "      <td>856</td>\n",
       "      <td>1710</td>\n",
       "      <td>0</td>\n",
       "      <td>2003.0</td>\n",
       "      <td>2</td>\n",
       "      <td>2566</td>\n",
       "      <td>3.5</td>\n",
       "      <td>5</td>\n",
       "    </tr>\n",
       "    <tr>\n",
       "      <th>1</th>\n",
       "      <td>6</td>\n",
       "      <td>1976</td>\n",
       "      <td>0</td>\n",
       "      <td>1262</td>\n",
       "      <td>1262</td>\n",
       "      <td>3</td>\n",
       "      <td>1976.0</td>\n",
       "      <td>2</td>\n",
       "      <td>2524</td>\n",
       "      <td>2.5</td>\n",
       "      <td>31</td>\n",
       "    </tr>\n",
       "    <tr>\n",
       "      <th>2</th>\n",
       "      <td>7</td>\n",
       "      <td>2001</td>\n",
       "      <td>1</td>\n",
       "      <td>920</td>\n",
       "      <td>1786</td>\n",
       "      <td>3</td>\n",
       "      <td>2001.0</td>\n",
       "      <td>2</td>\n",
       "      <td>2706</td>\n",
       "      <td>3.5</td>\n",
       "      <td>7</td>\n",
       "    </tr>\n",
       "    <tr>\n",
       "      <th>3</th>\n",
       "      <td>7</td>\n",
       "      <td>1915</td>\n",
       "      <td>55</td>\n",
       "      <td>756</td>\n",
       "      <td>1717</td>\n",
       "      <td>4</td>\n",
       "      <td>1998.0</td>\n",
       "      <td>3</td>\n",
       "      <td>2473</td>\n",
       "      <td>2.0</td>\n",
       "      <td>91</td>\n",
       "    </tr>\n",
       "    <tr>\n",
       "      <th>4</th>\n",
       "      <td>8</td>\n",
       "      <td>2000</td>\n",
       "      <td>0</td>\n",
       "      <td>1145</td>\n",
       "      <td>2198</td>\n",
       "      <td>3</td>\n",
       "      <td>2000.0</td>\n",
       "      <td>3</td>\n",
       "      <td>3343</td>\n",
       "      <td>3.5</td>\n",
       "      <td>8</td>\n",
       "    </tr>\n",
       "  </tbody>\n",
       "</table>\n",
       "</div>"
      ],
      "text/plain": [
       "   OverallQual  YearBuilt  YearRemodAdd  TotalBsmtSF  GrLivArea  FireplaceQu  \\\n",
       "0            7       2003             0          856       1710            0   \n",
       "1            6       1976             0         1262       1262            3   \n",
       "2            7       2001             1          920       1786            3   \n",
       "3            7       1915            55          756       1717            4   \n",
       "4            8       2000             0         1145       2198            3   \n",
       "\n",
       "   GarageYrBlt  GarageCars  TotalSqft  TotalBath  HouseAge  \n",
       "0       2003.0           2       2566        3.5         5  \n",
       "1       1976.0           2       2524        2.5        31  \n",
       "2       2001.0           2       2706        3.5         7  \n",
       "3       1998.0           3       2473        2.0        91  \n",
       "4       2000.0           3       3343        3.5         8  "
      ]
     },
     "execution_count": 16,
     "metadata": {},
     "output_type": "execute_result"
    }
   ],
   "source": [
    "# disabling the pandas warning\n",
    "pd.options.mode.chained_assignment = None\n",
    "\n",
    "num_df_train['YearRemodAdd'] = num_df_train['YearRemodAdd'] - num_df_train['YearBuilt']\n",
    "# x_final_test['YearRemodAdd'] = x_final_test['YearRemodAdd'] - x_final_test['YearBuilt']\n",
    "\n",
    "num_df_train.head()"
   ]
  },
  {
   "cell_type": "markdown",
   "metadata": {},
   "source": [
    "#### Select the important categorical features to use"
   ]
  },
  {
   "cell_type": "code",
   "execution_count": 17,
   "metadata": {},
   "outputs": [
    {
     "data": {
      "text/html": [
       "<div>\n",
       "<style scoped>\n",
       "    .dataframe tbody tr th:only-of-type {\n",
       "        vertical-align: middle;\n",
       "    }\n",
       "\n",
       "    .dataframe tbody tr th {\n",
       "        vertical-align: top;\n",
       "    }\n",
       "\n",
       "    .dataframe thead th {\n",
       "        text-align: right;\n",
       "    }\n",
       "</style>\n",
       "<table border=\"1\" class=\"dataframe\">\n",
       "  <thead>\n",
       "    <tr style=\"text-align: right;\">\n",
       "      <th></th>\n",
       "      <th>MSZoning_C (all)</th>\n",
       "      <th>MSZoning_FV</th>\n",
       "      <th>MSZoning_RH</th>\n",
       "      <th>MSZoning_RL</th>\n",
       "      <th>MSZoning_RM</th>\n",
       "      <th>Utilities_AllPub</th>\n",
       "      <th>Utilities_NoSeWa</th>\n",
       "      <th>BldgType_1Fam</th>\n",
       "      <th>BldgType_2fmCon</th>\n",
       "      <th>BldgType_Duplex</th>\n",
       "      <th>...</th>\n",
       "      <th>KitchenQual_TA</th>\n",
       "      <th>SaleCondition_Abnorml</th>\n",
       "      <th>SaleCondition_AdjLand</th>\n",
       "      <th>SaleCondition_Alloca</th>\n",
       "      <th>SaleCondition_Family</th>\n",
       "      <th>SaleCondition_Normal</th>\n",
       "      <th>SaleCondition_Partial</th>\n",
       "      <th>LandSlope_Gtl</th>\n",
       "      <th>LandSlope_Mod</th>\n",
       "      <th>LandSlope_Sev</th>\n",
       "    </tr>\n",
       "  </thead>\n",
       "  <tbody>\n",
       "    <tr>\n",
       "      <th>0</th>\n",
       "      <td>0</td>\n",
       "      <td>0</td>\n",
       "      <td>0</td>\n",
       "      <td>1</td>\n",
       "      <td>0</td>\n",
       "      <td>1</td>\n",
       "      <td>0</td>\n",
       "      <td>1</td>\n",
       "      <td>0</td>\n",
       "      <td>0</td>\n",
       "      <td>...</td>\n",
       "      <td>0</td>\n",
       "      <td>0</td>\n",
       "      <td>0</td>\n",
       "      <td>0</td>\n",
       "      <td>0</td>\n",
       "      <td>1</td>\n",
       "      <td>0</td>\n",
       "      <td>1</td>\n",
       "      <td>0</td>\n",
       "      <td>0</td>\n",
       "    </tr>\n",
       "    <tr>\n",
       "      <th>1</th>\n",
       "      <td>0</td>\n",
       "      <td>0</td>\n",
       "      <td>0</td>\n",
       "      <td>1</td>\n",
       "      <td>0</td>\n",
       "      <td>1</td>\n",
       "      <td>0</td>\n",
       "      <td>1</td>\n",
       "      <td>0</td>\n",
       "      <td>0</td>\n",
       "      <td>...</td>\n",
       "      <td>1</td>\n",
       "      <td>0</td>\n",
       "      <td>0</td>\n",
       "      <td>0</td>\n",
       "      <td>0</td>\n",
       "      <td>1</td>\n",
       "      <td>0</td>\n",
       "      <td>1</td>\n",
       "      <td>0</td>\n",
       "      <td>0</td>\n",
       "    </tr>\n",
       "    <tr>\n",
       "      <th>2</th>\n",
       "      <td>0</td>\n",
       "      <td>0</td>\n",
       "      <td>0</td>\n",
       "      <td>1</td>\n",
       "      <td>0</td>\n",
       "      <td>1</td>\n",
       "      <td>0</td>\n",
       "      <td>1</td>\n",
       "      <td>0</td>\n",
       "      <td>0</td>\n",
       "      <td>...</td>\n",
       "      <td>0</td>\n",
       "      <td>0</td>\n",
       "      <td>0</td>\n",
       "      <td>0</td>\n",
       "      <td>0</td>\n",
       "      <td>1</td>\n",
       "      <td>0</td>\n",
       "      <td>1</td>\n",
       "      <td>0</td>\n",
       "      <td>0</td>\n",
       "    </tr>\n",
       "    <tr>\n",
       "      <th>3</th>\n",
       "      <td>0</td>\n",
       "      <td>0</td>\n",
       "      <td>0</td>\n",
       "      <td>1</td>\n",
       "      <td>0</td>\n",
       "      <td>1</td>\n",
       "      <td>0</td>\n",
       "      <td>1</td>\n",
       "      <td>0</td>\n",
       "      <td>0</td>\n",
       "      <td>...</td>\n",
       "      <td>0</td>\n",
       "      <td>1</td>\n",
       "      <td>0</td>\n",
       "      <td>0</td>\n",
       "      <td>0</td>\n",
       "      <td>0</td>\n",
       "      <td>0</td>\n",
       "      <td>1</td>\n",
       "      <td>0</td>\n",
       "      <td>0</td>\n",
       "    </tr>\n",
       "    <tr>\n",
       "      <th>4</th>\n",
       "      <td>0</td>\n",
       "      <td>0</td>\n",
       "      <td>0</td>\n",
       "      <td>1</td>\n",
       "      <td>0</td>\n",
       "      <td>1</td>\n",
       "      <td>0</td>\n",
       "      <td>1</td>\n",
       "      <td>0</td>\n",
       "      <td>0</td>\n",
       "      <td>...</td>\n",
       "      <td>0</td>\n",
       "      <td>0</td>\n",
       "      <td>0</td>\n",
       "      <td>0</td>\n",
       "      <td>0</td>\n",
       "      <td>1</td>\n",
       "      <td>0</td>\n",
       "      <td>1</td>\n",
       "      <td>0</td>\n",
       "      <td>0</td>\n",
       "    </tr>\n",
       "  </tbody>\n",
       "</table>\n",
       "<p>5 rows × 31 columns</p>\n",
       "</div>"
      ],
      "text/plain": [
       "   MSZoning_C (all)  MSZoning_FV  MSZoning_RH  MSZoning_RL  MSZoning_RM  \\\n",
       "0                 0            0            0            1            0   \n",
       "1                 0            0            0            1            0   \n",
       "2                 0            0            0            1            0   \n",
       "3                 0            0            0            1            0   \n",
       "4                 0            0            0            1            0   \n",
       "\n",
       "   Utilities_AllPub  Utilities_NoSeWa  BldgType_1Fam  BldgType_2fmCon  \\\n",
       "0                 1                 0              1                0   \n",
       "1                 1                 0              1                0   \n",
       "2                 1                 0              1                0   \n",
       "3                 1                 0              1                0   \n",
       "4                 1                 0              1                0   \n",
       "\n",
       "   BldgType_Duplex  ...  KitchenQual_TA  SaleCondition_Abnorml  \\\n",
       "0                0  ...               0                      0   \n",
       "1                0  ...               1                      0   \n",
       "2                0  ...               0                      0   \n",
       "3                0  ...               0                      1   \n",
       "4                0  ...               0                      0   \n",
       "\n",
       "   SaleCondition_AdjLand  SaleCondition_Alloca  SaleCondition_Family  \\\n",
       "0                      0                     0                     0   \n",
       "1                      0                     0                     0   \n",
       "2                      0                     0                     0   \n",
       "3                      0                     0                     0   \n",
       "4                      0                     0                     0   \n",
       "\n",
       "   SaleCondition_Normal  SaleCondition_Partial  LandSlope_Gtl  LandSlope_Mod  \\\n",
       "0                     1                      0              1              0   \n",
       "1                     1                      0              1              0   \n",
       "2                     1                      0              1              0   \n",
       "3                     0                      0              1              0   \n",
       "4                     1                      0              1              0   \n",
       "\n",
       "   LandSlope_Sev  \n",
       "0              0  \n",
       "1              0  \n",
       "2              0  \n",
       "3              0  \n",
       "4              0  \n",
       "\n",
       "[5 rows x 31 columns]"
      ]
     },
     "execution_count": 17,
     "metadata": {},
     "output_type": "execute_result"
    }
   ],
   "source": [
    "cat_cols = [\"MSZoning\", \"Utilities\", \"BldgType\", \"Heating\", \n",
    "            \"KitchenQual\", \"SaleCondition\", \"LandSlope\"]\n",
    "\n",
    "cat_df_train = pd.get_dummies(x_train[cat_cols], columns=cat_cols)\n",
    "cat_df_train.head()"
   ]
  },
  {
   "cell_type": "markdown",
   "metadata": {},
   "source": [
    "### Create final dataframe"
   ]
  },
  {
   "cell_type": "code",
   "execution_count": 19,
   "metadata": {},
   "outputs": [
    {
     "data": {
      "text/html": [
       "<div>\n",
       "<style scoped>\n",
       "    .dataframe tbody tr th:only-of-type {\n",
       "        vertical-align: middle;\n",
       "    }\n",
       "\n",
       "    .dataframe tbody tr th {\n",
       "        vertical-align: top;\n",
       "    }\n",
       "\n",
       "    .dataframe thead th {\n",
       "        text-align: right;\n",
       "    }\n",
       "</style>\n",
       "<table border=\"1\" class=\"dataframe\">\n",
       "  <thead>\n",
       "    <tr style=\"text-align: right;\">\n",
       "      <th></th>\n",
       "      <th>OverallQual</th>\n",
       "      <th>YearBuilt</th>\n",
       "      <th>YearRemodAdd</th>\n",
       "      <th>TotalBsmtSF</th>\n",
       "      <th>GrLivArea</th>\n",
       "      <th>FireplaceQu</th>\n",
       "      <th>GarageYrBlt</th>\n",
       "      <th>GarageCars</th>\n",
       "      <th>TotalSqft</th>\n",
       "      <th>TotalBath</th>\n",
       "      <th>...</th>\n",
       "      <th>KitchenQual_TA</th>\n",
       "      <th>SaleCondition_Abnorml</th>\n",
       "      <th>SaleCondition_AdjLand</th>\n",
       "      <th>SaleCondition_Alloca</th>\n",
       "      <th>SaleCondition_Family</th>\n",
       "      <th>SaleCondition_Normal</th>\n",
       "      <th>SaleCondition_Partial</th>\n",
       "      <th>LandSlope_Gtl</th>\n",
       "      <th>LandSlope_Mod</th>\n",
       "      <th>LandSlope_Sev</th>\n",
       "    </tr>\n",
       "  </thead>\n",
       "  <tbody>\n",
       "    <tr>\n",
       "      <th>0</th>\n",
       "      <td>7</td>\n",
       "      <td>2003</td>\n",
       "      <td>0</td>\n",
       "      <td>856</td>\n",
       "      <td>1710</td>\n",
       "      <td>0</td>\n",
       "      <td>2003.0</td>\n",
       "      <td>2</td>\n",
       "      <td>2566</td>\n",
       "      <td>3.5</td>\n",
       "      <td>...</td>\n",
       "      <td>0</td>\n",
       "      <td>0</td>\n",
       "      <td>0</td>\n",
       "      <td>0</td>\n",
       "      <td>0</td>\n",
       "      <td>1</td>\n",
       "      <td>0</td>\n",
       "      <td>1</td>\n",
       "      <td>0</td>\n",
       "      <td>0</td>\n",
       "    </tr>\n",
       "    <tr>\n",
       "      <th>1</th>\n",
       "      <td>6</td>\n",
       "      <td>1976</td>\n",
       "      <td>0</td>\n",
       "      <td>1262</td>\n",
       "      <td>1262</td>\n",
       "      <td>3</td>\n",
       "      <td>1976.0</td>\n",
       "      <td>2</td>\n",
       "      <td>2524</td>\n",
       "      <td>2.5</td>\n",
       "      <td>...</td>\n",
       "      <td>1</td>\n",
       "      <td>0</td>\n",
       "      <td>0</td>\n",
       "      <td>0</td>\n",
       "      <td>0</td>\n",
       "      <td>1</td>\n",
       "      <td>0</td>\n",
       "      <td>1</td>\n",
       "      <td>0</td>\n",
       "      <td>0</td>\n",
       "    </tr>\n",
       "    <tr>\n",
       "      <th>2</th>\n",
       "      <td>7</td>\n",
       "      <td>2001</td>\n",
       "      <td>1</td>\n",
       "      <td>920</td>\n",
       "      <td>1786</td>\n",
       "      <td>3</td>\n",
       "      <td>2001.0</td>\n",
       "      <td>2</td>\n",
       "      <td>2706</td>\n",
       "      <td>3.5</td>\n",
       "      <td>...</td>\n",
       "      <td>0</td>\n",
       "      <td>0</td>\n",
       "      <td>0</td>\n",
       "      <td>0</td>\n",
       "      <td>0</td>\n",
       "      <td>1</td>\n",
       "      <td>0</td>\n",
       "      <td>1</td>\n",
       "      <td>0</td>\n",
       "      <td>0</td>\n",
       "    </tr>\n",
       "    <tr>\n",
       "      <th>3</th>\n",
       "      <td>7</td>\n",
       "      <td>1915</td>\n",
       "      <td>55</td>\n",
       "      <td>756</td>\n",
       "      <td>1717</td>\n",
       "      <td>4</td>\n",
       "      <td>1998.0</td>\n",
       "      <td>3</td>\n",
       "      <td>2473</td>\n",
       "      <td>2.0</td>\n",
       "      <td>...</td>\n",
       "      <td>0</td>\n",
       "      <td>1</td>\n",
       "      <td>0</td>\n",
       "      <td>0</td>\n",
       "      <td>0</td>\n",
       "      <td>0</td>\n",
       "      <td>0</td>\n",
       "      <td>1</td>\n",
       "      <td>0</td>\n",
       "      <td>0</td>\n",
       "    </tr>\n",
       "    <tr>\n",
       "      <th>4</th>\n",
       "      <td>8</td>\n",
       "      <td>2000</td>\n",
       "      <td>0</td>\n",
       "      <td>1145</td>\n",
       "      <td>2198</td>\n",
       "      <td>3</td>\n",
       "      <td>2000.0</td>\n",
       "      <td>3</td>\n",
       "      <td>3343</td>\n",
       "      <td>3.5</td>\n",
       "      <td>...</td>\n",
       "      <td>0</td>\n",
       "      <td>0</td>\n",
       "      <td>0</td>\n",
       "      <td>0</td>\n",
       "      <td>0</td>\n",
       "      <td>1</td>\n",
       "      <td>0</td>\n",
       "      <td>1</td>\n",
       "      <td>0</td>\n",
       "      <td>0</td>\n",
       "    </tr>\n",
       "  </tbody>\n",
       "</table>\n",
       "<p>5 rows × 42 columns</p>\n",
       "</div>"
      ],
      "text/plain": [
       "   OverallQual  YearBuilt  YearRemodAdd  TotalBsmtSF  GrLivArea  FireplaceQu  \\\n",
       "0            7       2003             0          856       1710            0   \n",
       "1            6       1976             0         1262       1262            3   \n",
       "2            7       2001             1          920       1786            3   \n",
       "3            7       1915            55          756       1717            4   \n",
       "4            8       2000             0         1145       2198            3   \n",
       "\n",
       "   GarageYrBlt  GarageCars  TotalSqft  TotalBath  ...  KitchenQual_TA  \\\n",
       "0       2003.0           2       2566        3.5  ...               0   \n",
       "1       1976.0           2       2524        2.5  ...               1   \n",
       "2       2001.0           2       2706        3.5  ...               0   \n",
       "3       1998.0           3       2473        2.0  ...               0   \n",
       "4       2000.0           3       3343        3.5  ...               0   \n",
       "\n",
       "   SaleCondition_Abnorml  SaleCondition_AdjLand  SaleCondition_Alloca  \\\n",
       "0                      0                      0                     0   \n",
       "1                      0                      0                     0   \n",
       "2                      0                      0                     0   \n",
       "3                      1                      0                     0   \n",
       "4                      0                      0                     0   \n",
       "\n",
       "   SaleCondition_Family  SaleCondition_Normal  SaleCondition_Partial  \\\n",
       "0                     0                     1                      0   \n",
       "1                     0                     1                      0   \n",
       "2                     0                     1                      0   \n",
       "3                     0                     0                      0   \n",
       "4                     0                     1                      0   \n",
       "\n",
       "   LandSlope_Gtl  LandSlope_Mod  LandSlope_Sev  \n",
       "0              1              0              0  \n",
       "1              1              0              0  \n",
       "2              1              0              0  \n",
       "3              1              0              0  \n",
       "4              1              0              0  \n",
       "\n",
       "[5 rows x 42 columns]"
      ]
     },
     "execution_count": 19,
     "metadata": {},
     "output_type": "execute_result"
    }
   ],
   "source": [
    "x_train_final = num_df_train.join(cat_df_train)\n",
    "x_train_final.head()"
   ]
  },
  {
   "cell_type": "markdown",
   "metadata": {},
   "source": [
    "## Normalize the data"
   ]
  },
  {
   "cell_type": "markdown",
   "metadata": {},
   "source": [
    "### Standardize the numeric columns"
   ]
  },
  {
   "cell_type": "code",
   "execution_count": 20,
   "metadata": {},
   "outputs": [
    {
     "data": {
      "text/plain": [
       "array([6.09396433e+00, 1.97121811e+03, 1.36159122e+01, 1.05253704e+03,\n",
       "       1.51046571e+03, 1.82235940e+00, 1.97646502e+03, 1.76611797e+00,\n",
       "       2.55715021e+03, 2.20747599e+00, 3.65980796e+01])"
      ]
     },
     "execution_count": 20,
     "metadata": {},
     "output_type": "execute_result"
    }
   ],
   "source": [
    "ss_train = StandardScaler().fit(x_train_final[num_cols])\n",
    "ss_test = StandardScaler().fit(x_train_final[num_cols])\n",
    "\n",
    "ss_train.mean_"
   ]
  },
  {
   "cell_type": "code",
   "execution_count": 26,
   "metadata": {},
   "outputs": [
    {
     "data": {
      "text/html": [
       "<div>\n",
       "<style scoped>\n",
       "    .dataframe tbody tr th:only-of-type {\n",
       "        vertical-align: middle;\n",
       "    }\n",
       "\n",
       "    .dataframe tbody tr th {\n",
       "        vertical-align: top;\n",
       "    }\n",
       "\n",
       "    .dataframe thead th {\n",
       "        text-align: right;\n",
       "    }\n",
       "</style>\n",
       "<table border=\"1\" class=\"dataframe\">\n",
       "  <thead>\n",
       "    <tr style=\"text-align: right;\">\n",
       "      <th></th>\n",
       "      <th>OverallQual</th>\n",
       "      <th>YearBuilt</th>\n",
       "      <th>YearRemodAdd</th>\n",
       "      <th>TotalBsmtSF</th>\n",
       "      <th>GrLivArea</th>\n",
       "      <th>FireplaceQu</th>\n",
       "      <th>GarageYrBlt</th>\n",
       "      <th>GarageCars</th>\n",
       "      <th>TotalSqft</th>\n",
       "      <th>TotalBath</th>\n",
       "      <th>...</th>\n",
       "      <th>KitchenQual_TA</th>\n",
       "      <th>SaleCondition_Abnorml</th>\n",
       "      <th>SaleCondition_AdjLand</th>\n",
       "      <th>SaleCondition_Alloca</th>\n",
       "      <th>SaleCondition_Family</th>\n",
       "      <th>SaleCondition_Normal</th>\n",
       "      <th>SaleCondition_Partial</th>\n",
       "      <th>LandSlope_Gtl</th>\n",
       "      <th>LandSlope_Mod</th>\n",
       "      <th>LandSlope_Sev</th>\n",
       "    </tr>\n",
       "  </thead>\n",
       "  <tbody>\n",
       "    <tr>\n",
       "      <th>0</th>\n",
       "      <td>-12.790488</td>\n",
       "      <td>-67.545872</td>\n",
       "      <td>-0.579893</td>\n",
       "      <td>-2.543343</td>\n",
       "      <td>-2.980961</td>\n",
       "      <td>-2.186578</td>\n",
       "      <td>-78.149957</td>\n",
       "      <td>-21.700349</td>\n",
       "      <td>-3.308752</td>\n",
       "      <td>-18.909299</td>\n",
       "      <td>...</td>\n",
       "      <td>0</td>\n",
       "      <td>0</td>\n",
       "      <td>0</td>\n",
       "      <td>0</td>\n",
       "      <td>0</td>\n",
       "      <td>1</td>\n",
       "      <td>0</td>\n",
       "      <td>1</td>\n",
       "      <td>0</td>\n",
       "      <td>0</td>\n",
       "    </tr>\n",
       "    <tr>\n",
       "      <th>1</th>\n",
       "      <td>-12.937884</td>\n",
       "      <td>-67.545872</td>\n",
       "      <td>-0.579893</td>\n",
       "      <td>-2.543343</td>\n",
       "      <td>-2.980961</td>\n",
       "      <td>-2.101174</td>\n",
       "      <td>-78.149957</td>\n",
       "      <td>-21.700349</td>\n",
       "      <td>-3.308752</td>\n",
       "      <td>-23.313342</td>\n",
       "      <td>...</td>\n",
       "      <td>1</td>\n",
       "      <td>0</td>\n",
       "      <td>0</td>\n",
       "      <td>0</td>\n",
       "      <td>0</td>\n",
       "      <td>1</td>\n",
       "      <td>0</td>\n",
       "      <td>1</td>\n",
       "      <td>0</td>\n",
       "      <td>0</td>\n",
       "    </tr>\n",
       "    <tr>\n",
       "      <th>2</th>\n",
       "      <td>-12.790488</td>\n",
       "      <td>-67.545872</td>\n",
       "      <td>-0.579893</td>\n",
       "      <td>-2.543343</td>\n",
       "      <td>-2.980961</td>\n",
       "      <td>-2.101174</td>\n",
       "      <td>-78.149957</td>\n",
       "      <td>-21.700349</td>\n",
       "      <td>-3.308752</td>\n",
       "      <td>-18.909299</td>\n",
       "      <td>...</td>\n",
       "      <td>0</td>\n",
       "      <td>0</td>\n",
       "      <td>0</td>\n",
       "      <td>0</td>\n",
       "      <td>0</td>\n",
       "      <td>1</td>\n",
       "      <td>0</td>\n",
       "      <td>1</td>\n",
       "      <td>0</td>\n",
       "      <td>0</td>\n",
       "    </tr>\n",
       "    <tr>\n",
       "      <th>3</th>\n",
       "      <td>-12.790488</td>\n",
       "      <td>-67.545872</td>\n",
       "      <td>-0.579893</td>\n",
       "      <td>-2.543343</td>\n",
       "      <td>-2.980961</td>\n",
       "      <td>-2.072707</td>\n",
       "      <td>-78.149957</td>\n",
       "      <td>-15.937909</td>\n",
       "      <td>-3.308752</td>\n",
       "      <td>-25.515363</td>\n",
       "      <td>...</td>\n",
       "      <td>0</td>\n",
       "      <td>1</td>\n",
       "      <td>0</td>\n",
       "      <td>0</td>\n",
       "      <td>0</td>\n",
       "      <td>0</td>\n",
       "      <td>0</td>\n",
       "      <td>1</td>\n",
       "      <td>0</td>\n",
       "      <td>0</td>\n",
       "    </tr>\n",
       "    <tr>\n",
       "      <th>4</th>\n",
       "      <td>-12.643093</td>\n",
       "      <td>-67.545872</td>\n",
       "      <td>-0.579893</td>\n",
       "      <td>-2.543343</td>\n",
       "      <td>-2.980961</td>\n",
       "      <td>-2.101174</td>\n",
       "      <td>-78.149957</td>\n",
       "      <td>-15.937909</td>\n",
       "      <td>-3.308752</td>\n",
       "      <td>-18.909299</td>\n",
       "      <td>...</td>\n",
       "      <td>0</td>\n",
       "      <td>0</td>\n",
       "      <td>0</td>\n",
       "      <td>0</td>\n",
       "      <td>0</td>\n",
       "      <td>1</td>\n",
       "      <td>0</td>\n",
       "      <td>1</td>\n",
       "      <td>0</td>\n",
       "      <td>0</td>\n",
       "    </tr>\n",
       "  </tbody>\n",
       "</table>\n",
       "<p>5 rows × 42 columns</p>\n",
       "</div>"
      ],
      "text/plain": [
       "   OverallQual  YearBuilt  YearRemodAdd  TotalBsmtSF  GrLivArea  FireplaceQu  \\\n",
       "0   -12.790488 -67.545872     -0.579893    -2.543343  -2.980961    -2.186578   \n",
       "1   -12.937884 -67.545872     -0.579893    -2.543343  -2.980961    -2.101174   \n",
       "2   -12.790488 -67.545872     -0.579893    -2.543343  -2.980961    -2.101174   \n",
       "3   -12.790488 -67.545872     -0.579893    -2.543343  -2.980961    -2.072707   \n",
       "4   -12.643093 -67.545872     -0.579893    -2.543343  -2.980961    -2.101174   \n",
       "\n",
       "   GarageYrBlt  GarageCars  TotalSqft  TotalBath  ...  KitchenQual_TA  \\\n",
       "0   -78.149957  -21.700349  -3.308752 -18.909299  ...               0   \n",
       "1   -78.149957  -21.700349  -3.308752 -23.313342  ...               1   \n",
       "2   -78.149957  -21.700349  -3.308752 -18.909299  ...               0   \n",
       "3   -78.149957  -15.937909  -3.308752 -25.515363  ...               0   \n",
       "4   -78.149957  -15.937909  -3.308752 -18.909299  ...               0   \n",
       "\n",
       "   SaleCondition_Abnorml  SaleCondition_AdjLand  SaleCondition_Alloca  \\\n",
       "0                      0                      0                     0   \n",
       "1                      0                      0                     0   \n",
       "2                      0                      0                     0   \n",
       "3                      1                      0                     0   \n",
       "4                      0                      0                     0   \n",
       "\n",
       "   SaleCondition_Family  SaleCondition_Normal  SaleCondition_Partial  \\\n",
       "0                     0                     1                      0   \n",
       "1                     0                     1                      0   \n",
       "2                     0                     1                      0   \n",
       "3                     0                     0                      0   \n",
       "4                     0                     1                      0   \n",
       "\n",
       "   LandSlope_Gtl  LandSlope_Mod  LandSlope_Sev  \n",
       "0              1              0              0  \n",
       "1              1              0              0  \n",
       "2              1              0              0  \n",
       "3              1              0              0  \n",
       "4              1              0              0  \n",
       "\n",
       "[5 rows x 42 columns]"
      ]
     },
     "execution_count": 26,
     "metadata": {},
     "output_type": "execute_result"
    }
   ],
   "source": [
    "#transform\n",
    "x_train_final[num_cols] = ss_train.transform(x_train_final[num_cols])\n",
    "# x_final_test[num_cols] = ss_test.transform(x_final_test[num_cols])\n",
    "\n",
    "x_train_final.head()"
   ]
  },
  {
   "cell_type": "code",
   "execution_count": null,
   "metadata": {},
   "outputs": [],
   "source": [
    "x_final_train.isna().sum()"
   ]
  },
  {
   "cell_type": "code",
   "execution_count": null,
   "metadata": {},
   "outputs": [],
   "source": [
    "x_final_train.info()"
   ]
  },
  {
   "cell_type": "code",
   "execution_count": null,
   "metadata": {},
   "outputs": [],
   "source": [
    "x_final_test.info()"
   ]
  },
  {
   "cell_type": "code",
   "execution_count": null,
   "metadata": {},
   "outputs": [],
   "source": [
    "x_final_test.isna().sum()"
   ]
  },
  {
   "cell_type": "code",
   "execution_count": null,
   "metadata": {},
   "outputs": [],
   "source": [
    "datatypes = x_train_final.dtypes\n",
    "encodings = {}\n",
    "\n",
    "for col, dt in datatypes.iteritems():\n",
    "    if(str(dt) not in ['float64', 'int64']):\n",
    "        \n",
    "        #print(col, dt)\n",
    "        x_cat_df[col] = x_cat_df[col].astype(\"category\")\n",
    "        encodings[col] = x_cat_df[col].cat.codes\n",
    "        x_cat_df[col] = encodings[col]"
   ]
  },
  {
   "cell_type": "code",
   "execution_count": null,
   "metadata": {},
   "outputs": [],
   "source": [
    "x_cat_df.head()"
   ]
  },
  {
   "cell_type": "code",
   "execution_count": null,
   "metadata": {},
   "outputs": [],
   "source": [
    "x_final_train2 = num_df_train.join(x_cat_df)\n",
    "x_final_train2.head()"
   ]
  },
  {
   "cell_type": "code",
   "execution_count": null,
   "metadata": {},
   "outputs": [],
   "source": []
  },
  {
   "cell_type": "code",
   "execution_count": null,
   "metadata": {},
   "outputs": [],
   "source": []
  },
  {
   "cell_type": "code",
   "execution_count": null,
   "metadata": {},
   "outputs": [],
   "source": []
  },
  {
   "cell_type": "code",
   "execution_count": null,
   "metadata": {},
   "outputs": [],
   "source": [
    "x_cat_df = X[cat_cols]"
   ]
  },
  {
   "cell_type": "code",
   "execution_count": null,
   "metadata": {},
   "outputs": [],
   "source": [
    "x_final_train = x_train[num_cols]\n",
    "x_final_train.shape"
   ]
  },
  {
   "cell_type": "code",
   "execution_count": null,
   "metadata": {},
   "outputs": [],
   "source": [
    "x_final_train.columns"
   ]
  },
  {
   "cell_type": "code",
   "execution_count": null,
   "metadata": {},
   "outputs": [],
   "source": [
    "# x_final_test = df_test_clean[num_cols]\n",
    "# x_final_test.shape"
   ]
  },
  {
   "cell_type": "code",
   "execution_count": null,
   "metadata": {},
   "outputs": [],
   "source": [
    "x_final = c_final.join(x_cat_df)\n",
    "x_final"
   ]
  },
  {
   "cell_type": "code",
   "execution_count": null,
   "metadata": {},
   "outputs": [],
   "source": []
  },
  {
   "cell_type": "markdown",
   "metadata": {},
   "source": [
    "#### Perform a missing data check"
   ]
  },
  {
   "cell_type": "code",
   "execution_count": null,
   "metadata": {},
   "outputs": [],
   "source": [
    "x_final_train.isna().sum()"
   ]
  },
  {
   "cell_type": "code",
   "execution_count": null,
   "metadata": {},
   "outputs": [],
   "source": [
    "x_train[cat_cols].isna().sum()"
   ]
  },
  {
   "cell_type": "code",
   "execution_count": null,
   "metadata": {},
   "outputs": [],
   "source": [
    "df_test_clean[cat_cols].isna().sum()"
   ]
  },
  {
   "cell_type": "code",
   "execution_count": null,
   "metadata": {},
   "outputs": [],
   "source": [
    "x_train.info()"
   ]
  },
  {
   "cell_type": "code",
   "execution_count": null,
   "metadata": {},
   "outputs": [],
   "source": [
    "df_test_clean.info()"
   ]
  },
  {
   "cell_type": "markdown",
   "metadata": {},
   "source": [
    "### Encode the categorical data"
   ]
  },
  {
   "cell_type": "code",
   "execution_count": null,
   "metadata": {},
   "outputs": [],
   "source": [
    "for col in x_final_train.columns:\n",
    "    train = sorted(x_final_train[col].unique().tolist())\n",
    "    test = sorted(x_final_test[col].unique().tolist())\n",
    "    total = set(train + test)\n",
    "    x_final_train[col] = pd.Categorical(x_final_train[col], categories=total)\n",
    "    x_final_test[col] = pd.Categorical(x_final_test[col], categories=total)"
   ]
  },
  {
   "cell_type": "code",
   "execution_count": null,
   "metadata": {},
   "outputs": [],
   "source": [
    "x_final_train.head()"
   ]
  },
  {
   "cell_type": "code",
   "execution_count": null,
   "metadata": {},
   "outputs": [],
   "source": [
    "x_final_test.head()"
   ]
  },
  {
   "cell_type": "code",
   "execution_count": null,
   "metadata": {},
   "outputs": [],
   "source": [
    "x_cat_df_train = pd.get_dummies(x_final_train, columns=cat_cols)\n",
    "x_cat_df_test = pd.get_dummies(x_final_test, columns=cat_cols)"
   ]
  },
  {
   "cell_type": "code",
   "execution_count": null,
   "metadata": {},
   "outputs": [],
   "source": []
  },
  {
   "cell_type": "code",
   "execution_count": null,
   "metadata": {},
   "outputs": [],
   "source": [
    "x_cat_df_train = pd.get_dummies(x_final_train[cat_cols], columns=cat_cols)\n",
    "x_cat_df_test = pd.get_dummies(x_final_test[cat_cols], columns=cat_cols)\n",
    "\n",
    "\n",
    "x_cat_df_train.head()"
   ]
  },
  {
   "cell_type": "code",
   "execution_count": null,
   "metadata": {},
   "outputs": [],
   "source": [
    "x_cat_df_test.head()"
   ]
  },
  {
   "cell_type": "markdown",
   "metadata": {},
   "source": [
    "### Create the final dataframe"
   ]
  },
  {
   "cell_type": "code",
   "execution_count": null,
   "metadata": {},
   "outputs": [],
   "source": [
    "x_final_train = x_final_train.join(x_cat_df_tran)\n",
    "x_final_test = x_final_test.join(x_cat_df_test)\n",
    "\n",
    "x_final_train"
   ]
  },
  {
   "cell_type": "markdown",
   "metadata": {},
   "source": [
    "## Split the data into train and test"
   ]
  },
  {
   "cell_type": "code",
   "execution_count": null,
   "metadata": {},
   "outputs": [],
   "source": [
    "x_train, x_test, y_train, y_test = train_test_split(x_final_train, y)\n",
    "x_train.shape, x_test.shape, y_train.shape, y_test.shape"
   ]
  },
  {
   "cell_type": "markdown",
   "metadata": {},
   "source": [
    "## Run a Linear Regression looking at one feature"
   ]
  },
  {
   "cell_type": "code",
   "execution_count": null,
   "metadata": {},
   "outputs": [],
   "source": [
    "x_final_train[['OverallQual']]"
   ]
  },
  {
   "cell_type": "code",
   "execution_count": null,
   "metadata": {},
   "outputs": [],
   "source": [
    "len(x_train_overall_q)"
   ]
  },
  {
   "cell_type": "code",
   "execution_count": null,
   "metadata": {},
   "outputs": [],
   "source": [
    "len(y_train)"
   ]
  },
  {
   "cell_type": "code",
   "execution_count": null,
   "metadata": {},
   "outputs": [],
   "source": [
    "x_train_overall_q =x_train[['OverallQual']]\n",
    "x_test_overall_q =x_test[['OverallQual']]\n",
    "\n",
    "linreg = LinearRegression()\n",
    "kf = KFold(n_splits=7, shuffle=True)\n",
    "\n",
    "scores = cross_val_score(linreg, x_train_overall_q, y_train, cv=kf)\n",
    "print(scores)\n",
    "print(f'Mean: {scores.mean()}; SD: {scores.std()}')\n",
    "\n",
    "\n",
    "linreg.fit(x_train_overall_q, y_train)\n",
    "print(f'TRAIN Score: {linreg.score(x_train_overall_q, y_train)}')\n",
    "\n",
    "print(f'TEST Score: {linreg.score(x_test_overall_q, y_test)}')\n",
    "\n",
    "\n",
    "\n",
    "# # calculating the intercept and slope for the regression line\n",
    "# b, m = np.polynomial.polynomial.polyfit(y_train, pred, 1)\n",
    "\n",
    "# print('labels\\n', x_train_overall_q.columns)\n",
    "# print('Coefficients: \\n', lin_reg.coef_)\n",
    "# print('Intercept: \\n', lin_reg.intercept_)\n",
    "# print('R2 for Train:', lin_reg.score(x_train_overall_q, y_train))\n",
    "# print('R2 for Test (cross validation)', lin_reg.score(x_train_overall_q, y_train))"
   ]
  },
  {
   "cell_type": "code",
   "execution_count": null,
   "metadata": {},
   "outputs": [],
   "source": [
    "sns.scatterplot(x=y_train, y=pred, alpha=0.4)\n",
    "sns.regplot(x=y_train, y=pred, truncate=True, scatter_kws={'s': 20, 'alpha':0.3}, \n",
    "            line_kws={'color':'green', 'linewidth': 2})\n",
    "sns.lineplot(x=np.unique(y_train), y=np.unique(np.poly1d(b + m * np.unique(y_train))), linewidth=0.5, color='r')\n",
    "\n",
    "plt.xlabel(\"Actual Sale Prices\")\n",
    "plt.ylabel(\"Predicted Sale Prices\")\n",
    "plt.title(\"Actual Prices vs Predicted prices [Training Set]\")\n",
    " \n",
    "plt.show()"
   ]
  },
  {
   "cell_type": "markdown",
   "metadata": {},
   "source": [
    "## Run a Linear Regression looking at multiple feature"
   ]
  },
  {
   "cell_type": "code",
   "execution_count": null,
   "metadata": {},
   "outputs": [],
   "source": [
    "lin_reg = LinearRegression()\n",
    "lin_reg.fit(x_train, y_train)\n",
    "pred = lin_reg.predict(x_train)\n",
    "\n",
    "kf = KFold(n_splits=7, shuffle=True)\n",
    "\n",
    "scores = cross_val_score(lin_reg, x_train, y_train, cv=kf)\n",
    "print(scores)\n",
    "print(f'Mean: {scores.mean()}; SD: {scores.std()}')\n",
    "\n",
    "\n",
    "linreg.fit(x_train, y_train)\n",
    "print(f'TRAIN Score: {linreg.score(x_train, y_train)}')\n",
    "\n",
    "print(f'TEST Score: {linreg.score(x_test, y_test)}')\n",
    "\n",
    "\n",
    "# # calculating the intercept and slope for the regression line\n",
    "# b, m = np.polynomial.polynomial.polyfit(y_train, pred, 1)\n",
    "\n",
    "# print('labels\\n', x_train_overall_q.columns)\n",
    "# print('Coefficients: \\n', lin_reg.coef_)\n",
    "# print('Intercept: \\n', lin_reg.intercept_)\n",
    "# print('R2 for Train:', lin_reg.score(x_train, y_train))\n",
    "# print('R2 for Test (cross validation)', lin_reg.score(x_train, y_train))"
   ]
  },
  {
   "cell_type": "code",
   "execution_count": null,
   "metadata": {
    "scrolled": true
   },
   "outputs": [],
   "source": [
    "sns.scatterplot(x=y_train, y=pred, alpha=0.4)\n",
    "sns.regplot(x=y_train, y=pred, truncate=True, scatter_kws={'s': 20, 'alpha':0.3}, \n",
    "            line_kws={'color':'green', 'linewidth': 2})\n",
    "sns.lineplot(x=np.unique(y_train), y=np.unique(np.poly1d(b + m * np.unique(y_train))), linewidth=0.5, color='r')\n",
    "\n",
    "plt.xlabel(\"Actual Sale Prices\")\n",
    "plt.ylabel(\"Predicted Sale Prices\")\n",
    "plt.title(\"Actual Prices vs Predicted prices [Training Set]\")\n",
    " \n",
    "plt.show()"
   ]
  },
  {
   "cell_type": "code",
   "execution_count": null,
   "metadata": {},
   "outputs": [],
   "source": [
    "x_final_test"
   ]
  },
  {
   "cell_type": "code",
   "execution_count": null,
   "metadata": {},
   "outputs": [],
   "source": [
    "preds1 = linreg.predict(x_final_test)"
   ]
  },
  {
   "cell_type": "code",
   "execution_count": null,
   "metadata": {},
   "outputs": [],
   "source": []
  },
  {
   "cell_type": "code",
   "execution_count": null,
   "metadata": {},
   "outputs": [],
   "source": [
    "len(df_test_clean)"
   ]
  },
  {
   "cell_type": "code",
   "execution_count": null,
   "metadata": {},
   "outputs": [],
   "source": [
    "len(x_final)"
   ]
  },
  {
   "cell_type": "code",
   "execution_count": null,
   "metadata": {},
   "outputs": [],
   "source": [
    "preds = lin_reg.predict(x_final_test)\n",
    "submit = pd.DataFrame({'Id': df_test_clean['Id'], 'SalePrice': preds})\n",
    "submit\n",
    "# submit.to_csv('submission.csv',index=False)"
   ]
  },
  {
   "cell_type": "code",
   "execution_count": null,
   "metadata": {},
   "outputs": [],
   "source": []
  },
  {
   "cell_type": "markdown",
   "metadata": {},
   "source": [
    "## 4. Evaluate polynomial, indicator, dichotomous, & piecewise model components"
   ]
  },
  {
   "cell_type": "markdown",
   "metadata": {},
   "source": [
    "### Polynomial Regression"
   ]
  },
  {
   "cell_type": "code",
   "execution_count": null,
   "metadata": {},
   "outputs": [],
   "source": [
    "# Creates a polynomial regression model for the given degree\n",
    "poly_features = PolynomialFeatures(degree=2, include_bias=False)\n",
    "   \n",
    "# transform the features to higher degree features.\n",
    "x_train_poly = poly_features.fit_transform(x_minmax_train)\n",
    "   \n",
    "# fit the transformed features to Linear Regression\n",
    "poly_model = LinearRegression()\n",
    "\n",
    "poly_model.fit(x_train_poly, y_train)\n",
    "\n",
    "print(poly_model.intercept_)\n",
    "print(lin_reg.coef_)\n",
    "     \n",
    "# predicting on training data-set\n",
    "y_train_predicted = poly_model.predict(x_train_poly)\n",
    "   \n",
    "# predicting on test data-set\n",
    "y_test_predicted = poly_model.predict(poly_features.fit_transform(x_test))"
   ]
  },
  {
   "cell_type": "code",
   "execution_count": null,
   "metadata": {},
   "outputs": [],
   "source": [
    "y_train_residual = y_train_predicted - y_train\n",
    "y_test_residual = y_test_predicted - y_test\n",
    "\n",
    "\n",
    "fig, axes = plt.subplots(2, 1)\n",
    "# Adjust the subplot layout parameters\n",
    "fig.subplots_adjust(hspace=0.125, wspace=0.125)\n",
    "\n",
    "plt.subplot(1, 2, 1)\n",
    "sns.histplot(y_train_residual, bins=25)\n",
    "plt.title('Training Set [Polynomial Model]')\n",
    "\n",
    "plt.subplot(1, 2, 2)\n",
    "sns.histplot(y_test_residual, bins=25)\n",
    "plt.title('Test Set [Polynomial Model]')\n",
    "\n",
    "plt.show()"
   ]
  },
  {
   "cell_type": "code",
   "execution_count": null,
   "metadata": {},
   "outputs": [],
   "source": [
    "def plot_learning_curves(model, X, y):\n",
    "    X_train, X_val, y_train, y_val = train_test_split(X, y, test_size=0.2)\n",
    "    train_errors, val_errors = [], []\n",
    "    for m in range(1, len(X_train)):\n",
    "        model.fit(X_train[:m], y_train[:m])\n",
    "        y_train_predict = model.predict(X_train[:m])\n",
    "        y_val_predict = model.predict(X_val)\n",
    "        train_errors.append(mean_squared_error(y_train[:m], y_train_predict))\n",
    "        val_errors.append(mean_squared_error(y_val, y_val_predict))\n",
    "    plt.plot(np.sqrt(train_errors), \"r-+\", linewidth=2, label=\"train\")\n",
    "    plt.plot(np.sqrt(val_errors), \"b-\", linewidth=3, label=\"val\")\n",
    "    plt.legend(labels=[\"train\",\"val\"])"
   ]
  },
  {
   "cell_type": "code",
   "execution_count": null,
   "metadata": {},
   "outputs": [],
   "source": [
    "lin_reg = LinearRegression()\n",
    "plot_learning_curves(lin_reg, x_minmax_train, y_train)"
   ]
  },
  {
   "cell_type": "markdown",
   "metadata": {},
   "source": [
    "### Indicator"
   ]
  },
  {
   "cell_type": "code",
   "execution_count": null,
   "metadata": {},
   "outputs": [],
   "source": []
  },
  {
   "cell_type": "markdown",
   "metadata": {},
   "source": [
    "### Dichotomous\n",
    "Dichotomous is when the axis is divided into 2 branches (such as yes or no). This is seen when prefroaming a Binary Logistic Regression.\n",
    "\n",
    "[sklearn](https://scikit-learn.org/stable/modules/generated/sklearn.linear_model.LogisticRegression.html)"
   ]
  },
  {
   "cell_type": "code",
   "execution_count": null,
   "metadata": {},
   "outputs": [],
   "source": [
    "x3 = df_train_clean[['ReModeled']]\n",
    "y3 = df_train_clean['SalePrice']\n",
    "x_train3, x_test3, y_train3, y_test3 = train_test_split(x3, y3)\n",
    "\n",
    "print(x_train3.shape, x_test3.shape, y_train3.shape, y_test3.shape)"
   ]
  },
  {
   "cell_type": "code",
   "execution_count": null,
   "metadata": {},
   "outputs": [],
   "source": [
    "# Standardizing the scales\n",
    "ss = StandardScaler()\n",
    "xs3 = ss.fit_transform(x_train3)\n",
    "\n",
    "clf = LogisticRegression()\n",
    "clf.fit(xs3, y_train3)\n",
    "print(f\"Model Score: {clf.score(xs3, y_train3)}\")\n",
    "\n",
    "\n",
    "# model evaluation for training set\n",
    "y_train_predict3 = clf.predict(xs3)\n",
    "\n",
    "# calculating the intercept and slope for the regression line\n",
    "b, m = np.polynomial.polynomial.polyfit(y_train3, y_train_predict3, 1)"
   ]
  },
  {
   "cell_type": "code",
   "execution_count": null,
   "metadata": {},
   "outputs": [],
   "source": [
    "sns.scatterplot(x=y_train3, y=y_train_predict3, alpha=0.4)\n",
    "sns.regplot(x=y_train3, y=y_train_predict3, truncate=True, scatter_kws={'s': 20, 'alpha':0.3}, \n",
    "            line_kws={'color':'green', 'linewidth': 2})\n",
    "sns.lineplot(x=np.unique(y_train3), y=np.unique(np.poly1d(b + m * np.unique(y_train3))), linewidth=0.5, color='r')\n",
    "\n",
    "plt.xlabel(\"Actual Sale Prices\")\n",
    "plt.ylabel(\"Predicted Sale Prices\")\n",
    "plt.title(\"Actual Prices vs Predicted prices [Training Set]\")\n",
    " \n",
    "plt.show()"
   ]
  },
  {
   "cell_type": "markdown",
   "metadata": {},
   "source": [
    "### Piecewise model"
   ]
  },
  {
   "cell_type": "code",
   "execution_count": null,
   "metadata": {},
   "outputs": [],
   "source": [
    "x4 = df_train_clean[['TotalSqft', 'OverallQual', 'TotalBsmtSF', 'GarageCars']]\n",
    "y4 = df_train_clean['SalePrice']\n",
    "x_train4, x_test4, y_train4, y_test4 = train_test_split(x4, y4)\n",
    "\n",
    "print(x_train4.shape, x_test4.shape, y_train4.shape, y_test4.shape)"
   ]
  },
  {
   "cell_type": "code",
   "execution_count": null,
   "metadata": {},
   "outputs": [],
   "source": [
    "model = PiecewiseRegressor(verbose=True,\n",
    "                           binner=DecisionTreeRegressor(min_samples_leaf=300))\n",
    "model.fit(x_train4, y_train4)"
   ]
  },
  {
   "cell_type": "code",
   "execution_count": null,
   "metadata": {},
   "outputs": [],
   "source": [
    "pred = model.predict(x_test4)\n",
    "pred[:5]"
   ]
  },
  {
   "cell_type": "code",
   "execution_count": null,
   "metadata": {},
   "outputs": [],
   "source": [
    "x_test4.iloc[:, 0].values"
   ]
  },
  {
   "cell_type": "code",
   "execution_count": null,
   "metadata": {},
   "outputs": [],
   "source": [
    "fig, ax = plt.subplots(1, 1)\n",
    "ax.plot(x_test4.iloc[:, 0].values, y_test4, \".\", label='data')\n",
    "ax.plot(x_test4.iloc[:, 0].values, pred, \".\", label=\"predictions\")\n",
    "ax.set_title(\"Piecewise Linear Regression\\n2 buckets\")\n",
    "ax.legend();"
   ]
  },
  {
   "cell_type": "code",
   "execution_count": null,
   "metadata": {},
   "outputs": [],
   "source": [
    "print(f\"Model Score: {model.score(x_train4, y_train4)}\")"
   ]
  },
  {
   "cell_type": "markdown",
   "metadata": {},
   "source": [
    "## 5. Create at least one feature from the data set"
   ]
  },
  {
   "cell_type": "code",
   "execution_count": null,
   "metadata": {},
   "outputs": [],
   "source": [
    "x_test_final = scaler.transform(df_test_clean)\n",
    "preds = lasso_reg.predict(x_test_final)\n",
    "preds = pd.DataFrame(preds,columns=['SalePrice'])\n",
    "preds.head()"
   ]
  },
  {
   "cell_type": "code",
   "execution_count": null,
   "metadata": {},
   "outputs": [],
   "source": [
    "preds['Id'] = x_test2['Id']\n",
    "# preds = preds[['Id','SalePrice']]\n",
    "preds"
   ]
  },
  {
   "cell_type": "code",
   "execution_count": null,
   "metadata": {},
   "outputs": [],
   "source": [
    "preds"
   ]
  }
 ],
 "metadata": {
  "kernelspec": {
   "display_name": "Python 3",
   "language": "python",
   "name": "python3"
  },
  "language_info": {
   "codemirror_mode": {
    "name": "ipython",
    "version": 3
   },
   "file_extension": ".py",
   "mimetype": "text/x-python",
   "name": "python",
   "nbconvert_exporter": "python",
   "pygments_lexer": "ipython3",
   "version": "3.8.5"
  }
 },
 "nbformat": 4,
 "nbformat_minor": 4
}
