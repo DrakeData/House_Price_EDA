{
  "nbformat": 4,
  "nbformat_minor": 0,
  "metadata": {
    "colab": {
      "name": "MSDS422_Assignment1_Colab.ipynb",
      "provenance": [],
      "toc_visible": true,
      "authorship_tag": "ABX9TyOua8vtj+0lEBo3+7C4EQyL",
      "include_colab_link": true
    },
    "kernelspec": {
      "name": "python3",
      "display_name": "Python 3"
    },
    "language_info": {
      "name": "python"
    }
  },
  "cells": [
    {
      "cell_type": "markdown",
      "metadata": {
        "id": "view-in-github",
        "colab_type": "text"
      },
      "source": [
        "<a href=\"https://colab.research.google.com/github/DrakeData/House_Price_EDA/blob/main/MSDS422_Assignment1_Colab.ipynb\" target=\"_parent\"><img src=\"https://colab.research.google.com/assets/colab-badge.svg\" alt=\"Open In Colab\"/></a>"
      ]
    },
    {
      "cell_type": "markdown",
      "source": [
        "# Assignment 1 - House Prices: Advanced Regression Techniques\n",
        "MSDS 422: Practical Machine Learning"
      ],
      "metadata": {
        "id": "ftXwFqsmiOP1"
      }
    },
    {
      "cell_type": "code",
      "source": [
        "import pandas as pd\n",
        "import matplotlib.pyplot as plt\n",
        "import seaborn as sns\n",
        "import numpy as np\n",
        "import os\n",
        "from scipy import stats\n",
        "from scipy.stats import norm\n",
        "from sklearn.preprocessing import StandardScaler\n",
        "from sklearn.preprocessing import MinMaxScaler\n",
        "from sklearn.preprocessing import LabelEncoder\n",
        "from sklearn.impute import SimpleImputer\n",
        "\n",
        "%matplotlib inline\n",
        "sns.set()"
      ],
      "metadata": {
        "id": "LcQRaqjUi8Bi"
      },
      "execution_count": 1,
      "outputs": []
    },
    {
      "cell_type": "markdown",
      "source": [
        "## Ingest\n",
        "The data set used for this assignment is the [Ames, Iowa Real Estate data set from Kaggle.com](https://www.kaggle.com/c/house-prices-advanced-regression-techniques/overview). We will be performing Exploratory Data Analysis (EDA) to identify key dependent variables that help determine the sales price of a house."
      ],
      "metadata": {
        "id": "h_uf-Y3eibJt"
      }
    },
    {
      "cell_type": "code",
      "execution_count": null,
      "metadata": {
        "id": "dg0Fa69Hhp8F"
      },
      "outputs": [],
      "source": [
        "# Create file path to the test and trained data set\n",
        "train_path = os.path.join(os.getcwd(), 'data', 'train.csv')\n",
        "test_path = os.path.join(os.getcwd(), 'data', 'test.csv')\n",
        "\n",
        "# Load csv into pandas df\n",
        "df_train = pd.read_csv(train_path)\n",
        "df_test = pd.read_csv(test_path)"
      ]
    }
  ]
}